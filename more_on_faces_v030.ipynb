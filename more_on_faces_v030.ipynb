{
 "cells": [
  {
   "cell_type": "markdown",
   "metadata": {},
   "source": [
    "Finding faces, with processed data"
   ]
  },
  {
   "cell_type": "code",
   "execution_count": 1,
   "metadata": {
    "collapsed": false
   },
   "outputs": [
    {
     "name": "stdout",
     "output_type": "stream",
     "text": [
      "Populating the interactive namespace from numpy and matplotlib\n"
     ]
    }
   ],
   "source": [
    "%pylab inline\n",
    "import numpy as np\n",
    "import matplotlib.pyplot as plt"
   ]
  },
  {
   "cell_type": "markdown",
   "metadata": {},
   "source": [
    "You'll need the processed data from the website.  Use your web browser to download http://nipy.bic.berkeley.edu/practical_neuroimaging/srabold.nii.gz into this current directory, or do:\n",
    "\n",
    "`curl -O http://nipy.bic.berkeley.edu/practical_neuroimaging/srabold.nii.gz`\n",
    "\n",
    "in the terminal / shell (for OSX and Linux)"
   ]
  },
  {
   "cell_type": "code",
   "execution_count": 2,
   "metadata": {
    "collapsed": false
   },
   "outputs": [
    {
     "name": "stdout",
     "output_type": "stream",
     "text": [
      "nibabel: 2.0.0\n",
      "nipy: 0.3.0\n"
     ]
    }
   ],
   "source": [
    "import nibabel as nib\n",
    "print \"nibabel:\", nib.__version__\n",
    "import nipy\n",
    "print \"nipy:\", nipy.__version__"
   ]
  },
  {
   "cell_type": "code",
   "execution_count": 3,
   "metadata": {
    "collapsed": false
   },
   "outputs": [],
   "source": [
    "img = nib.load('srabold.nii.gz')"
   ]
  },
  {
   "cell_type": "code",
   "execution_count": 4,
   "metadata": {
    "collapsed": false
   },
   "outputs": [
    {
     "name": "stdout",
     "output_type": "stream",
     "text": [
      "<class 'nibabel.nifti1.Nifti1Header'> object, endian='<'\n",
      "sizeof_hdr      : 348\n",
      "data_type       : \n",
      "db_name         : \n",
      "extents         : 0\n",
      "session_error   : 0\n",
      "regular         : \n",
      "dim_info        : 0\n",
      "dim             : [  4  40  64  64 121   1   1   1]\n",
      "intent_p1       : 0.0\n",
      "intent_p2       : 0.0\n",
      "intent_p3       : 0.0\n",
      "intent_code     : none\n",
      "datatype        : float64\n",
      "bitpix          : 64\n",
      "slice_start     : 0\n",
      "pixdim          : [-1.    3.5   3.75  3.75  1.    1.    1.    1.  ]\n",
      "vox_offset      : 0.0\n",
      "scl_slope       : nan\n",
      "scl_inter       : nan\n",
      "slice_end       : 0\n",
      "slice_code      : unknown\n",
      "xyzt_units      : 10\n",
      "cal_max         : 0.0\n",
      "cal_min         : 0.0\n",
      "slice_duration  : 0.0\n",
      "toffset         : 0.0\n",
      "glmax           : 0\n",
      "glmin           : 0\n",
      "descrip         : \n",
      "aux_file        : \n",
      "qform_code      : scanner\n",
      "sform_code      : scanner\n",
      "quatern_b       : 0.0\n",
      "quatern_c       : 1.0\n",
      "quatern_d       : 0.0\n",
      "qoffset_x       : 68.25\n",
      "qoffset_y       : -118.125\n",
      "qoffset_z       : -118.125\n",
      "srow_x          : [ -3.5    0.     0.    68.25]\n",
      "srow_y          : [   0.       3.75     0.    -118.125]\n",
      "srow_z          : [   0.       0.       3.75  -118.125]\n",
      "intent_name     : \n",
      "magic           : n+1\n"
     ]
    }
   ],
   "source": [
    "print(img.header)"
   ]
  },
  {
   "cell_type": "markdown",
   "metadata": {},
   "source": [
    "Defaults for plotting"
   ]
  },
  {
   "cell_type": "code",
   "execution_count": 5,
   "metadata": {
    "collapsed": false
   },
   "outputs": [],
   "source": [
    "plt.rcParams['image.cmap'] = 'gray'\n",
    "plt.rcParams['image.interpolation'] = 'nearest'"
   ]
  },
  {
   "cell_type": "markdown",
   "metadata": {},
   "source": [
    "Loading the image may take a little while:"
   ]
  },
  {
   "cell_type": "code",
   "execution_count": 6,
   "metadata": {
    "collapsed": false
   },
   "outputs": [
    {
     "data": {
      "text/plain": [
       "(40, 64, 64, 121)"
      ]
     },
     "execution_count": 6,
     "metadata": {},
     "output_type": "execute_result"
    }
   ],
   "source": [
    "data = img.get_data()\n",
    "data.shape"
   ]
  },
  {
   "cell_type": "code",
   "execution_count": 7,
   "metadata": {
    "collapsed": false
   },
   "outputs": [
    {
     "data": {
      "text/plain": [
       "<matplotlib.image.AxesImage at 0x7fdfa8ea8410>"
      ]
     },
     "execution_count": 7,
     "metadata": {},
     "output_type": "execute_result"
    },
    {
     "data": {
      "image/png": "[encoded data removed]",
      "text/plain": [
       "<matplotlib.figure.Figure at 0x7fdfb26b5210>"
      ]
     },
     "metadata": {},
     "output_type": "display_data"
    }
   ],
   "source": [
    "plt.imshow(data.mean(axis=-1)[:, :, 30])"
   ]
  },
  {
   "cell_type": "markdown",
   "metadata": {},
   "source": [
    "Why is this image blurry?"
   ]
  },
  {
   "cell_type": "markdown",
   "metadata": {},
   "source": [
    "So what was the subject doing here?\n",
    "\n",
    "https://openfmri.org/dataset/ds000105\n",
    "\n",
    "* 001 House\n",
    "* 002 Scrambled\n",
    "* 003 Cat\n",
    "* 004 Shoe\n",
    "* 005 Bottle\n",
    "* 006 Scissors\n",
    "* 007 Chair\n",
    "* 008 Face"
   ]
  },
  {
   "cell_type": "code",
   "execution_count": 8,
   "metadata": {
    "collapsed": false
   },
   "outputs": [],
   "source": [
    "event_types = ['house', 'scrambled', 'cat', 'shoe', 'bottle', 'scissors', 'chair', 'face']"
   ]
  },
  {
   "cell_type": "markdown",
   "metadata": {},
   "source": [
    "You should have the task lists for this subject in your `~/data/ds105` directory.  Let's check:"
   ]
  },
  {
   "cell_type": "code",
   "execution_count": 9,
   "metadata": {
    "collapsed": false
   },
   "outputs": [
    {
     "data": {
      "text/plain": [
       "True"
      ]
     },
     "execution_count": 9,
     "metadata": {},
     "output_type": "execute_result"
    }
   ],
   "source": [
    "import os\n",
    "from os import path as osp\n",
    "HOME = os.path.expanduser('~')\n",
    "DATA_PATH = os.path.join(HOME, 'data', 'ds105')\n",
    "SUB1_TASK_PATH = os.path.join(DATA_PATH, 'sub001', 'model', 'model001', 'onsets', 'task001_run001')\n",
    "os.path.isdir(SUB1_TASK_PATH)"
   ]
  },
  {
   "cell_type": "markdown",
   "metadata": {},
   "source": [
    "If you got \"False\" above - you can download the zip file of the task files you need from:\n",
    "\n",
    "http://nipy.bic.berkeley.edu/practical_neuroimaging/ds105_sub001_tasks.zip\n",
    "\n",
    "Download the file, then `cd ~/data` and `unzip ~/Downloads/ds105_sub001_tasks.zip` (if you downloaded the file to your `Downloads` folder.\n",
    "\n",
    "Recheck:"
   ]
  },
  {
   "cell_type": "code",
   "execution_count": 10,
   "metadata": {
    "collapsed": false
   },
   "outputs": [
    {
     "data": {
      "text/plain": [
       "True"
      ]
     },
     "execution_count": 10,
     "metadata": {},
     "output_type": "execute_result"
    }
   ],
   "source": [
    "os.path.isdir(SUB1_TASK_PATH)"
   ]
  },
  {
   "cell_type": "markdown",
   "metadata": {},
   "source": [
    "Look in this path:"
   ]
  },
  {
   "cell_type": "code",
   "execution_count": 11,
   "metadata": {
    "collapsed": false
   },
   "outputs": [
    {
     "data": {
      "text/plain": [
       "['cond001.txt',\n",
       " 'cond008.txt',\n",
       " 'cond005.txt',\n",
       " 'cond006.txt',\n",
       " 'cond007.txt',\n",
       " 'cond003.txt',\n",
       " 'cond004.txt',\n",
       " 'cond002.txt']"
      ]
     },
     "execution_count": 11,
     "metadata": {},
     "output_type": "execute_result"
    }
   ],
   "source": [
    "os.listdir(SUB1_TASK_PATH)"
   ]
  },
  {
   "cell_type": "markdown",
   "metadata": {},
   "source": [
    "What are in these files?"
   ]
  },
  {
   "cell_type": "code",
   "execution_count": 12,
   "metadata": {
    "collapsed": false
   },
   "outputs": [
    {
     "name": "stdout",
     "output_type": "stream",
     "text": [
      "156.000\t0.5\t1\n",
      "158.000\t0.5\t1\n",
      "160.000\t0.5\t1\n",
      "162.000\t0.5\t1\n",
      "164.000\t0.5\t1\n",
      "166.000\t0.5\t1\n",
      "168.000\t0.5\t1\n",
      "170.000\t0.5\t1\n",
      "172.000\t0.5\t1\n",
      "174.000\t0.5\t1\n",
      "176.000\t0.5\t1\n",
      "178.000\t0.5\t1\n",
      "\n"
     ]
    }
   ],
   "source": [
    "COND1_FNAME = os.path.join(SUB1_TASK_PATH, 'cond001.txt')\n",
    "print(open(COND1_FNAME, 'rt').read())"
   ]
  },
  {
   "cell_type": "markdown",
   "metadata": {},
   "source": [
    "This is a common format for specifying events - any guesses what the columns are?\n"
   ]
  },
  {
   "cell_type": "markdown",
   "metadata": {},
   "source": [
    "We can actually do :"
   ]
  },
  {
   "cell_type": "code",
   "execution_count": 13,
   "metadata": {
    "collapsed": false
   },
   "outputs": [
    {
     "data": {
      "text/plain": [
       "array([(156.0, 0.5, 1.0), (158.0, 0.5, 1.0), (160.0, 0.5, 1.0),\n",
       "       (162.0, 0.5, 1.0), (164.0, 0.5, 1.0), (166.0, 0.5, 1.0),\n",
       "       (168.0, 0.5, 1.0), (170.0, 0.5, 1.0), (172.0, 0.5, 1.0),\n",
       "       (174.0, 0.5, 1.0), (176.0, 0.5, 1.0), (178.0, 0.5, 1.0)], \n",
       "      dtype=[('onset', '<f4'), ('duration', '<f4'), ('amplitude', '<f4')])"
      ]
     },
     "execution_count": 13,
     "metadata": {},
     "output_type": "execute_result"
    }
   ],
   "source": [
    "dtype_def = [('onset', 'f'), ('duration', 'f'), ('amplitude', 'f')]\n",
    "evs = np.loadtxt(COND1_FNAME, dtype_def)\n",
    "evs"
   ]
  },
  {
   "cell_type": "markdown",
   "metadata": {},
   "source": [
    "This is nice because:"
   ]
  },
  {
   "cell_type": "code",
   "execution_count": 14,
   "metadata": {
    "collapsed": false
   },
   "outputs": [
    {
     "data": {
      "text/plain": [
       "156.0"
      ]
     },
     "execution_count": 14,
     "metadata": {},
     "output_type": "execute_result"
    }
   ],
   "source": [
    "evs[0]['onset']"
   ]
  },
  {
   "cell_type": "code",
   "execution_count": 15,
   "metadata": {
    "collapsed": false
   },
   "outputs": [
    {
     "data": {
      "text/plain": [
       "array([ 156.,  158.,  160.,  162.,  164.,  166.,  168.,  170.,  172.,\n",
       "        174.,  176.,  178.], dtype=float32)"
      ]
     },
     "execution_count": 15,
     "metadata": {},
     "output_type": "execute_result"
    }
   ],
   "source": [
    "evs['onset']"
   ]
  },
  {
   "cell_type": "markdown",
   "metadata": {},
   "source": [
    "We can load our events for all types:"
   ]
  },
  {
   "cell_type": "code",
   "execution_count": 16,
   "metadata": {
    "collapsed": true
   },
   "outputs": [
    {
     "name": "stdout",
     "output_type": "stream",
     "text": [
      "/home/jb/data/ds105/sub001/model/model001/onsets/task001_run001/cond001.txt\n",
      "/home/jb/data/ds105/sub001/model/model001/onsets/task001_run001/cond002.txt\n",
      "/home/jb/data/ds105/sub001/model/model001/onsets/task001_run001/cond003.txt\n",
      "/home/jb/data/ds105/sub001/model/model001/onsets/task001_run001/cond004.txt\n",
      "/home/jb/data/ds105/sub001/model/model001/onsets/task001_run001/cond005.txt\n",
      "/home/jb/data/ds105/sub001/model/model001/onsets/task001_run001/cond006.txt\n",
      "/home/jb/data/ds105/sub001/model/model001/onsets/task001_run001/cond007.txt\n",
      "/home/jb/data/ds105/sub001/model/model001/onsets/task001_run001/cond008.txt\n"
     ]
    },
    {
     "data": {
      "text/plain": [
       "{'bottle': array([(228.0, 0.5, 1.0), (230.0, 0.5, 1.0), (232.0, 0.5, 1.0),\n",
       "        (234.0, 0.5, 1.0), (236.0, 0.5, 1.0), (238.0, 0.5, 1.0),\n",
       "        (240.0, 0.5, 1.0), (242.0, 0.5, 1.0), (244.0, 0.5, 1.0),\n",
       "        (246.0, 0.5, 1.0), (248.0, 0.5, 1.0), (250.0, 0.5, 1.0)], \n",
       "       dtype=[('onset', '<f4'), ('duration', '<f4'), ('amplitude', '<f4')]),\n",
       " 'cat': array([(84.0, 0.5, 1.0), (86.0, 0.5, 1.0), (88.0, 0.5, 1.0),\n",
       "        (90.0, 0.5, 1.0), (92.0, 0.5, 1.0), (94.0, 0.5, 1.0),\n",
       "        (96.0, 0.5, 1.0), (98.0, 0.5, 1.0), (100.0, 0.5, 1.0),\n",
       "        (102.0, 0.5, 1.0), (104.0, 0.5, 1.0), (106.0, 0.5, 1.0)], \n",
       "       dtype=[('onset', '<f4'), ('duration', '<f4'), ('amplitude', '<f4')]),\n",
       " 'chair': array([(264.0, 0.5, 1.0), (266.0, 0.5, 1.0), (268.0, 0.5, 1.0),\n",
       "        (270.0, 0.5, 1.0), (272.0, 0.5, 1.0), (274.0, 0.5, 1.0),\n",
       "        (276.0, 0.5, 1.0), (278.0, 0.5, 1.0), (280.0, 0.5, 1.0),\n",
       "        (282.0, 0.5, 1.0), (284.0, 0.5, 1.0), (286.0, 0.5, 1.0)], \n",
       "       dtype=[('onset', '<f4'), ('duration', '<f4'), ('amplitude', '<f4')]),\n",
       " 'face': array([(48.0, 0.5, 1.0), (50.0, 0.5, 1.0), (52.0, 0.5, 1.0),\n",
       "        (54.0, 0.5, 1.0), (56.0, 0.5, 1.0), (58.0, 0.5, 1.0),\n",
       "        (60.0, 0.5, 1.0), (62.0, 0.5, 1.0), (64.0, 0.5, 1.0),\n",
       "        (66.0, 0.5, 1.0), (68.0, 0.5, 1.0), (70.0, 0.5, 1.0)], \n",
       "       dtype=[('onset', '<f4'), ('duration', '<f4'), ('amplitude', '<f4')]),\n",
       " 'house': array([(156.0, 0.5, 1.0), (158.0, 0.5, 1.0), (160.0, 0.5, 1.0),\n",
       "        (162.0, 0.5, 1.0), (164.0, 0.5, 1.0), (166.0, 0.5, 1.0),\n",
       "        (168.0, 0.5, 1.0), (170.0, 0.5, 1.0), (172.0, 0.5, 1.0),\n",
       "        (174.0, 0.5, 1.0), (176.0, 0.5, 1.0), (178.0, 0.5, 1.0)], \n",
       "       dtype=[('onset', '<f4'), ('duration', '<f4'), ('amplitude', '<f4')]),\n",
       " 'scissors': array([(12.0, 0.5, 1.0), (14.0, 0.5, 1.0), (16.0, 0.5, 1.0),\n",
       "        (18.0, 0.5, 1.0), (20.0, 0.5, 1.0), (22.0, 0.5, 1.0),\n",
       "        (24.0, 0.5, 1.0), (26.0, 0.5, 1.0), (28.0, 0.5, 1.0),\n",
       "        (30.0, 0.5, 1.0), (32.0, 0.5, 1.0), (34.0, 0.5, 1.0)], \n",
       "       dtype=[('onset', '<f4'), ('duration', '<f4'), ('amplitude', '<f4')]),\n",
       " 'scrambled': array([(192.0, 0.5, 1.0), (194.0, 0.5, 1.0), (196.0, 0.5, 1.0),\n",
       "        (198.0, 0.5, 1.0), (200.0, 0.5, 1.0), (202.0, 0.5, 1.0),\n",
       "        (204.0, 0.5, 1.0), (206.0, 0.5, 1.0), (208.0, 0.5, 1.0),\n",
       "        (210.0, 0.5, 1.0), (212.0, 0.5, 1.0), (214.0, 0.5, 1.0)], \n",
       "       dtype=[('onset', '<f4'), ('duration', '<f4'), ('amplitude', '<f4')]),\n",
       " 'shoe': array([(120.0, 0.5, 1.0), (122.0, 0.5, 1.0), (124.0, 0.5, 1.0),\n",
       "        (126.0, 0.5, 1.0), (128.0, 0.5, 1.0), (130.0, 0.5, 1.0),\n",
       "        (132.0, 0.5, 1.0), (134.0, 0.5, 1.0), (136.0, 0.5, 1.0),\n",
       "        (138.0, 0.5, 1.0), (140.0, 0.5, 1.0), (142.0, 0.5, 1.0)], \n",
       "       dtype=[('onset', '<f4'), ('duration', '<f4'), ('amplitude', '<f4')])}"
      ]
     },
     "execution_count": 16,
     "metadata": {},
     "output_type": "execute_result"
    }
   ],
   "source": [
    "# create event_defs : a dictionary with keys the type of events, ('bottle', 'cat', ..)\n",
    "event_defs = {}\n",
    "for eno in range(8):\n",
    "    fname = os.path.join(os.path.join(SUB1_TASK_PATH, 'cond%03d.txt' % (eno + 1)))\n",
    "    print(fname)\n",
    "    event_name = event_types[eno]\n",
    "    event_defs[event_name] = np.loadtxt(fname, dtype_def)\n",
    "event_defs          "
   ]
  },
  {
   "cell_type": "markdown",
   "metadata": {},
   "source": [
    "Are these onsets in TRs or in seconds?"
   ]
  },
  {
   "cell_type": "markdown",
   "metadata": {},
   "source": [
    "OK - how to make our design?"
   ]
  },
  {
   "cell_type": "code",
   "execution_count": 34,
   "metadata": {
    "collapsed": false
   },
   "outputs": [],
   "source": [
    "# use to be : import nipy.modalities.fmri.design as fmrid #\n",
    "from nipy.modalities.fmri.experimental_paradigm import EventRelatedParadigm\n",
    "import nipy.modalities.fmri.design_matrix as dm\n",
    "\n",
    "#from glob import glob"
   ]
  },
  {
   "cell_type": "markdown",
   "metadata": {},
   "source": [
    "EventRelatedParadigm takes a list of string and events"
   ]
  },
  {
   "cell_type": "code",
   "execution_count": 23,
   "metadata": {
    "collapsed": true
   },
   "outputs": [],
   "source": [
    "n_scans = img.shape[-1]\n",
    "TR = 2.5\n",
    "t = np.arange(n_trs) * TR"
   ]
  },
  {
   "cell_type": "code",
   "execution_count": 24,
   "metadata": {
    "collapsed": false
   },
   "outputs": [
    {
     "name": "stdout",
     "output_type": "stream",
     "text": [
      "['house', 'cat', 'scrambled', 'shoe', 'bottle', 'scissors', 'chair', 'face']\n",
      "[ 156.  158.  160.  162.  164.  166.  168.  170.  172.  174.  176.  178.]\n"
     ]
    }
   ],
   "source": [
    "print(event_defs.keys())\n",
    "print(event_defs['house']['onset'])"
   ]
  },
  {
   "cell_type": "code",
   "execution_count": 25,
   "metadata": {
    "collapsed": false
   },
   "outputs": [
    {
     "name": "stdout",
     "output_type": "stream",
     "text": [
      "['house', 'house', 'house', 'house', 'house', 'house', 'house', 'house', 'house', 'house', 'house', 'house', 'cat', 'cat', 'cat', 'cat', 'cat', 'cat', 'cat', 'cat', 'cat', 'cat', 'cat', 'cat', 'scrambled', 'scrambled', 'scrambled', 'scrambled', 'scrambled', 'scrambled', 'scrambled', 'scrambled', 'scrambled', 'scrambled', 'scrambled', 'scrambled', 'shoe', 'shoe', 'shoe', 'shoe', 'shoe', 'shoe', 'shoe', 'shoe', 'shoe', 'shoe', 'shoe', 'shoe', 'bottle', 'bottle', 'bottle', 'bottle', 'bottle', 'bottle', 'bottle', 'bottle', 'bottle', 'bottle', 'bottle', 'bottle', 'scissors', 'scissors', 'scissors', 'scissors', 'scissors', 'scissors', 'scissors', 'scissors', 'scissors', 'scissors', 'scissors', 'scissors', 'chair', 'chair', 'chair', 'chair', 'chair', 'chair', 'chair', 'chair', 'chair', 'chair', 'chair', 'chair', 'face', 'face', 'face', 'face', 'face', 'face', 'face', 'face', 'face', 'face', 'face', 'face']\n",
      "[156.0, 158.0, 160.0, 162.0, 164.0, 166.0, 168.0, 170.0, 172.0, 174.0, 176.0, 178.0, 84.0, 86.0, 88.0, 90.0, 92.0, 94.0, 96.0, 98.0, 100.0, 102.0, 104.0, 106.0, 192.0, 194.0, 196.0, 198.0, 200.0, 202.0, 204.0, 206.0, 208.0, 210.0, 212.0, 214.0, 120.0, 122.0, 124.0, 126.0, 128.0, 130.0, 132.0, 134.0, 136.0, 138.0, 140.0, 142.0, 228.0, 230.0, 232.0, 234.0, 236.0, 238.0, 240.0, 242.0, 244.0, 246.0, 248.0, 250.0, 12.0, 14.0, 16.0, 18.0, 20.0, 22.0, 24.0, 26.0, 28.0, 30.0, 32.0, 34.0, 264.0, 266.0, 268.0, 270.0, 272.0, 274.0, 276.0, 278.0, 280.0, 282.0, 284.0, 286.0, 48.0, 50.0, 52.0, 54.0, 56.0, 58.0, 60.0, 62.0, 64.0, 66.0, 68.0, 70.0]\n"
     ]
    }
   ],
   "source": [
    "conditions = []\n",
    "onsets = []\n",
    "\n",
    "for cond in event_defs.keys():\n",
    "    cond_onsets = event_defs[cond]['onset']\n",
    "    conditions += [cond]*len(cond_onsets)\n",
    "    onsets += list(cond_onsets)\n",
    "\n",
    "print(conditions)\n",
    "print(onsets)"
   ]
  },
  {
   "cell_type": "code",
   "execution_count": 26,
   "metadata": {
    "collapsed": false
   },
   "outputs": [],
   "source": []
  },
  {
   "cell_type": "code",
   "execution_count": 32,
   "metadata": {
    "collapsed": true
   },
   "outputs": [],
   "source": [
    "# make paradigm with conditions and onsets (you could add durations and magnitude here)\n",
    "paradigm = EventRelatedParadigm(conditions, onsets)\n",
    "\n",
    "hrf_model = 'canonical'\n",
    "drift_model = 'cosine'\n",
    "# here you would pick the motion regressors\n",
    "motion_reg = np.cumsum(np.random.randn(n_scans, 6), 0)\n",
    "motion_reg_names = ['tx', 'ty', 'tz', 'rx', 'ry', 'rz']\n",
    "frametimes = np.linspace(0, (n_scans - 1) * TR, n_scans)"
   ]
  },
  {
   "cell_type": "markdown",
   "metadata": {},
   "source": [
    "Nice - so let's make the design:"
   ]
  },
  {
   "cell_type": "code",
   "execution_count": 35,
   "metadata": {
    "collapsed": false
   },
   "outputs": [
    {
     "name": "stderr",
     "output_type": "stream",
     "text": [
      "/home/jb/.virtualenvs/py2/local/lib/python2.7/site-packages/nipy/modalities/fmri/design_matrix.py:186: FutureWarning: comparison to `None` will result in an elementwise object comparison in the future.\n",
      "  if rmatrix == None:\n"
     ]
    }
   ],
   "source": [
    "X, names = dm.dmtx_light(frametimes, paradigm, drift_model='cosine',\n",
    "                         hfcut=128, hrf_model=hrf_model, add_regs=motion_reg,\n",
    "                         add_reg_names=motion_reg_names)\n"
   ]
  },
  {
   "cell_type": "code",
   "execution_count": 42,
   "metadata": {
    "collapsed": false
   },
   "outputs": [
    {
     "name": "stderr",
     "output_type": "stream",
     "text": [
      "/home/jb/.virtualenvs/py2/lib/python2.7/site-packages/IPython/kernel/__main__.py:1: RuntimeWarning: divide by zero encountered in divide\n",
      "  if __name__ == '__main__':\n"
     ]
    },
    {
     "data": {
      "text/plain": [
       "<matplotlib.image.AxesImage at 0x7fdfa564bd90>"
      ]
     },
     "execution_count": 42,
     "metadata": {},
     "output_type": "execute_result"
    },
    {
     "data": {
      "image/png": "[encoded data removed]",
      "text/plain": [
       "<matplotlib.figure.Figure at 0x7fdfa530fed0>"
      ]
     },
     "metadata": {},
     "output_type": "display_data"
    }
   ],
   "source": [
    "plt.imshow(X/X.std(axis=0), interpolation='nearest', aspect='auto')"
   ]
  },
  {
   "cell_type": "code",
   "execution_count": 48,
   "metadata": {
    "collapsed": false
   },
   "outputs": [],
   "source": [
    "from nipy.modalities.fmri.glm import GeneralLinearModel\n",
    "\n",
    "\n",
    "sh = img.shape[:-1]\n",
    "Y = img.get_data().reshape(np.prod(sh), n_scans)\n",
    "glm = GeneralLinearModel(X)\n",
    "glm.fit(Y.T)\n"
   ]
  },
  {
   "cell_type": "code",
   "execution_count": 55,
   "metadata": {
    "collapsed": false
   },
   "outputs": [],
   "source": [
    "# specify the contrast [1 -1 0 ..]\n",
    "contrast = np.zeros(X.shape[1])\n",
    "contrast[:8] = [-1, -1, -1, -1, -1, -1, -1, 7]\n"
   ]
  },
  {
   "cell_type": "code",
   "execution_count": 56,
   "metadata": {
    "collapsed": false
   },
   "outputs": [],
   "source": [
    "# compute the constrast image related to it\n",
    "zvals = glm.contrast(contrast).z_score()\n",
    "contrast_image = nib.Nifti1Image(np.reshape(zvals, sh), img.get_affine())\n"
   ]
  },
  {
   "cell_type": "code",
   "execution_count": 57,
   "metadata": {
    "collapsed": false
   },
   "outputs": [
    {
     "data": {
      "text/plain": [
       "(40, 64, 64)"
      ]
     },
     "execution_count": 57,
     "metadata": {},
     "output_type": "execute_result"
    }
   ],
   "source": [
    "con_img = np.reshape(contrast_image.get_data(), img.shape[:-1])\n",
    "con_img.shape"
   ]
  },
  {
   "cell_type": "code",
   "execution_count": 58,
   "metadata": {
    "collapsed": false
   },
   "outputs": [
    {
     "data": {
      "text/plain": [
       "<matplotlib.image.AxesImage at 0x7fdfa3c96810>"
      ]
     },
     "execution_count": 58,
     "metadata": {},
     "output_type": "execute_result"
    },
    {
     "data": {
      "image/png": "[encoded data removed]",
      "text/plain": [
       "<matplotlib.figure.Figure at 0x7fdfa54911d0>"
      ]
     },
     "metadata": {},
     "output_type": "display_data"
    }
   ],
   "source": [
    "plt.imshow(con_img[..., 30])"
   ]
  },
  {
   "cell_type": "markdown",
   "metadata": {},
   "source": [
    "Can you find any face activity you believe?"
   ]
  }
 ],
 "metadata": {
  "kernelspec": {
   "display_name": "Python 2",
   "language": "python",
   "name": "python2"
  },
  "language_info": {
   "codemirror_mode": {
    "name": "ipython",
    "version": 2
   },
   "file_extension": ".py",
   "mimetype": "text/x-python",
   "name": "python",
   "nbconvert_exporter": "python",
   "pygments_lexer": "ipython2",
   "version": "2.7.6"
  }
 },
 "nbformat": 4,
 "nbformat_minor": 0
}
