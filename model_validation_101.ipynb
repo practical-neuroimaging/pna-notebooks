{
 "metadata": {
  "name": "",
  "signature": "sha256:ca4f849257508b73796124cb5acc25d968b0c2b5d35f16d6741cb92dec093808"
 },
 "nbformat": 3,
 "nbformat_minor": 0,
 "worksheets": [
  {
   "cells": [
    {
     "cell_type": "heading",
     "level": 1,
     "metadata": {},
     "source": [
      "Model validation: A simple example"
     ]
    },
    {
     "cell_type": "heading",
     "level": 2,
     "metadata": {},
     "source": [
      "Type of model validation"
     ]
    },
    {
     "cell_type": "markdown",
     "metadata": {},
     "source": [
      "* \"R2 is not enough\"\n",
      "* Looking at the residals\n",
      "* Cross validation when you can"
     ]
    },
    {
     "cell_type": "heading",
     "level": 2,
     "metadata": {},
     "source": [
      "R2 and graphical methods"
     ]
    },
    {
     "cell_type": "code",
     "collapsed": false,
     "input": [
      "import numpy as np\n",
      "import scipy as sp\n",
      "import scipy.linalg as lin\n",
      "import matplotlib.pyplot as plt\n",
      "from __future__ import division, print_function"
     ],
     "language": "python",
     "metadata": {},
     "outputs": [],
     "prompt_number": 1
    },
    {
     "cell_type": "code",
     "collapsed": false,
     "input": [
      "# function to compute the R2 from Y and X\n",
      "# from scipy import linalg as lin\n",
      "\n",
      "def projR(to_proj, X_):\n",
      "    \"\"\" \n",
      "    projects the 2d array `to_proj` onto the residual space of `_X`\n",
      "    \n",
      "    The svd of _X is computed to have a orthonormal basis of the\n",
      "    space of the columns of _X\n",
      "    \"\"\"\n",
      "    u_, _, _ = lin.svd(X_, full_matrices=False)\n",
      "    return (to_proj - u_.dot(u_.T.dot(to_proj)))\n",
      "\n",
      "## try this function with the mean:\n",
      "# ones_n1 = np.ones((n,1))\n",
      "# y = np.random.normal(3,1,size=(n,1))\n",
      "# print(\"this should be close to 3: \", y.mean())\n",
      "# print(\"this should be close to 0: \", projR(y, ones_n1).mean())\n",
      "\n",
      "\n",
      "def R2(Y, X, rm_intercept=False):\n",
      "    \"\"\"\n",
      "    Compute the coefficient of determination R2 \n",
      "    Y: numpy array shape (n,1) : the data\n",
      "    X: numpy array shape (n,p) : the design matrix\n",
      "    \"\"\"\n",
      "    (n,p) = X.shape\n",
      "    SST = (Y**2).sum()               # total sum of square\n",
      "    C = (Y.sum())**2 / n             # sum of square of the mean\n",
      "    ones_n1 = np.ones((n,1))\n",
      "    Xdemeaned = projR(X, ones_n1)\n",
      "    # compute the svd to get an orthonormal basis \n",
      "    u_, _, _ = lin.svd(Xdemeaned, full_matrices=False)\n",
      "    \n",
      "    # compute SSReg noticing that Y^t u u^t Y = \\sum (u^t Y)^2\n",
      "    SSReg = ((u_.T.dot(Y))**2).sum()\n",
      "    if rm_intercept:\n",
      "        return SSReg / (SST - C)\n",
      "    else: \n",
      "        return SSReg / SST\n",
      "\n",
      "\n",
      "def SSR(Y, X):\n",
      "    \"compute the sum of square of the regression on X\"\n",
      "    (n_, p_) = X.shape\n",
      "    if n_ < p_:\n",
      "        raise ValueError(\"n must be >= to p\")\n",
      "    u_, _, _ = lin.svd(X, full_matrices=False)\n",
      "    return (((u_.T * Y.T).sum(axis=1))**2).sum()\n",
      "\n",
      "def Proj(X):\n",
      "    \"\"\" This function returns the projector on the \n",
      "        space of the columns of `X`\n",
      "    \"\"\"\n",
      "    (n_, p_) = X.shape\n",
      "    if n_ < p_:\n",
      "        raise ValueError(\"n must be >= to p\")\n",
      "    u_, _, _ = lin.svd(X, full_matrices=False)\n",
      "    return u_.dot(u_.T)\n"
     ],
     "language": "python",
     "metadata": {},
     "outputs": [],
     "prompt_number": 2
    },
    {
     "cell_type": "code",
     "collapsed": false,
     "input": [
      "# define a true model\n",
      "\n",
      "def quadratic_model(x, param=[1,-8,16]):\n",
      "    return param[0]*x**2 + param[1]*x + param[2]\n",
      "\n",
      "model = quadratic_model"
     ],
     "language": "python",
     "metadata": {},
     "outputs": [],
     "prompt_number": 3
    },
    {
     "cell_type": "code",
     "collapsed": false,
     "input": [
      "n = 16 # number of points\n",
      "noise_level = 1./8\n",
      "x = np.arange(n)\n",
      "true_y = model(x)\n",
      "noiseSD = (true_y.max() - true_y.min())*noise_level\n",
      "y = true_y + np.random.normal(0, noiseSD, size=(n,)) \n",
      "plt.plot(x,y,x,true_y)"
     ],
     "language": "python",
     "metadata": {},
     "outputs": [
      {
       "metadata": {},
       "output_type": "pyout",
       "prompt_number": 65,
       "text": [
        "[<matplotlib.lines.Line2D at 0x69ed8d0>,\n",
        " <matplotlib.lines.Line2D at 0x69edb10>]"
       ]
      },
      {
       "metadata": {},
       "output_type": "display_data",
       "png": "[encoded data removed]",
       "text": [
        "<matplotlib.figure.Figure at 0x6730150>"
       ]
      }
     ],
     "prompt_number": 65
    },
    {
     "cell_type": "markdown",
     "metadata": {},
     "source": [
      "Now, we would like to know if the data are linear or quadratic with x.\n"
     ]
    },
    {
     "cell_type": "code",
     "collapsed": false,
     "input": [
      "# fit a linear model y = XB + E\n",
      "X = np.hstack((np.ones((n,1)),x.reshape((n,1))))\n",
      "print(X)"
     ],
     "language": "python",
     "metadata": {},
     "outputs": [
      {
       "output_type": "stream",
       "stream": "stdout",
       "text": [
        "[[  1.   0.]\n",
        " [  1.   1.]\n",
        " [  1.   2.]\n",
        " [  1.   3.]\n",
        " [  1.   4.]\n",
        " [  1.   5.]\n",
        " [  1.   6.]\n",
        " [  1.   7.]\n",
        " [  1.   8.]\n",
        " [  1.   9.]\n",
        " [  1.  10.]\n",
        " [  1.  11.]\n",
        " [  1.  12.]\n",
        " [  1.  13.]\n",
        " [  1.  14.]\n",
        " [  1.  15.]]\n"
       ]
      }
     ],
     "prompt_number": 66
    },
    {
     "cell_type": "code",
     "collapsed": false,
     "input": [
      "# fit the data\n",
      "beta_h = lin.pinv(X).dot(y)\n",
      "resid = y - X.dot(beta_h)\n",
      "plt.plot(resid)\n",
      "print(R2(y, X))"
     ],
     "language": "python",
     "metadata": {},
     "outputs": [
      {
       "output_type": "stream",
       "stream": "stdout",
       "text": [
        "0.789569189143\n"
       ]
      },
      {
       "metadata": {},
       "output_type": "display_data",
       "png": "[encoded data removed]",
       "text": [
        "<matplotlib.figure.Figure at 0x6542e10>"
       ]
      }
     ],
     "prompt_number": 67
    },
    {
     "cell_type": "code",
     "collapsed": false,
     "input": [
      "X2 = np.hstack((X, (x*x).reshape((n,1))))"
     ],
     "language": "python",
     "metadata": {},
     "outputs": [],
     "prompt_number": 68
    },
    {
     "cell_type": "code",
     "collapsed": false,
     "input": [
      "X2"
     ],
     "language": "python",
     "metadata": {},
     "outputs": [
      {
       "metadata": {},
       "output_type": "pyout",
       "prompt_number": 69,
       "text": [
        "array([[   1.,    0.,    0.],\n",
        "       [   1.,    1.,    1.],\n",
        "       [   1.,    2.,    4.],\n",
        "       [   1.,    3.,    9.],\n",
        "       [   1.,    4.,   16.],\n",
        "       [   1.,    5.,   25.],\n",
        "       [   1.,    6.,   36.],\n",
        "       [   1.,    7.,   49.],\n",
        "       [   1.,    8.,   64.],\n",
        "       [   1.,    9.,   81.],\n",
        "       [   1.,   10.,  100.],\n",
        "       [   1.,   11.,  121.],\n",
        "       [   1.,   12.,  144.],\n",
        "       [   1.,   13.,  169.],\n",
        "       [   1.,   14.,  196.],\n",
        "       [   1.,   15.,  225.]])"
       ]
      }
     ],
     "prompt_number": 69
    },
    {
     "cell_type": "code",
     "collapsed": false,
     "input": [
      "# fit the data\n",
      "beta_h = lin.pinv(X2).dot(y)\n",
      "resid = y - X2.dot(beta_h)\n",
      "plt.plot(resid)\n",
      "print(R2(y, X2))"
     ],
     "language": "python",
     "metadata": {},
     "outputs": [
      {
       "output_type": "stream",
       "stream": "stdout",
       "text": [
        "0.895987535281\n"
       ]
      },
      {
       "metadata": {},
       "output_type": "display_data",
       "png": "[encoded data removed]",
       "text": [
        "<matplotlib.figure.Figure at 0x6c5db10>"
       ]
      }
     ],
     "prompt_number": 70
    },
    {
     "cell_type": "heading",
     "level": 2,
     "metadata": {},
     "source": [
      "Cross-validation"
     ]
    },
    {
     "cell_type": "markdown",
     "metadata": {},
     "source": [
      "1. pick a cross validation scheme (here, leave one out)\n",
      "2. make test and train datasets\n",
      "3. fit the model on the train data\n",
      "4. measure how well is this model doing on the left out data (square prediction error)\n",
      "5. repeat across (test,train) and cumulate results"
     ]
    },
    {
     "cell_type": "code",
     "collapsed": false,
     "input": [
      "def make_test_train(y, lmodels, scheme='leave_one_out'):\n",
      "    \"\"\"\n",
      "    Parameters\n",
      "    ----------\n",
      "    y : numpy array\n",
      "        the data\n",
      "    lmodels : list of numpy arrays\n",
      "        each element is a design matrix\n",
      "    Returns\n",
      "    -------\n",
      "    \n",
      "    \"\"\"    \n",
      "    if scheme=='leave_one_out':\n",
      "        for i, y_test in enumerate(y):\n",
      "            y_train = np.hstack((y[:i],y[i+1:]))\n",
      "            m_loo = []\n",
      "            for mX in lmodels:\n",
      "                m_loo.append(np.vstack((mX[:i,:],mX[i+1:,:])))\n",
      "            yield i, y_test, y_train, m_loo"
     ],
     "language": "python",
     "metadata": {},
     "outputs": [],
     "prompt_number": 71
    },
    {
     "cell_type": "code",
     "collapsed": false,
     "input": [
      "n = len(y)\n",
      "x = np.arange(n)\n",
      "X1 = np.hstack((np.ones((n,1)),x.reshape((n,1))))\n",
      "X2 = np.hstack((X1, (x*x).reshape((n,1))))\n",
      "models_list = [X1, X2]\n",
      "\n",
      "for k in range(2,8):\n",
      "    models_list.append(np.hstack((X2, np.random.normal(size=(n,k)))))\n"
     ],
     "language": "python",
     "metadata": {},
     "outputs": [],
     "prompt_number": 72
    },
    {
     "cell_type": "code",
     "collapsed": false,
     "input": [
      "y_split = make_test_train(y, models_list)\n",
      "\n",
      "predicted_error = np.zeros(len(models_list),dtype='float')\n",
      "\n",
      "for i, y_test, y_train, models_train in y_split:\n",
      "    for midx, md in enumerate(models_train):\n",
      "        # fit the model on train\n",
      "        bh = lin.pinv(md).dot(y_train)\n",
      "        # compute the difference between y_test and predicted\n",
      "        predicted_error[midx] += (y_test - models_list[midx][i,:].dot(bh))**2\n",
      "\n",
      "print(predicted_error/n)\n",
      "plt.plot(predicted_error/n)  "
     ],
     "language": "python",
     "metadata": {},
     "outputs": [
      {
       "output_type": "stream",
       "stream": "stdout",
       "text": [
        "[ 1216.81644631   419.52053563   520.91121718   551.83232086   851.68596693\n",
        "   800.49557814   843.35431674  1096.09708688]\n"
       ]
      },
      {
       "metadata": {},
       "output_type": "pyout",
       "prompt_number": 73,
       "text": [
        "[<matplotlib.lines.Line2D at 0x6c531d0>]"
       ]
      },
      {
       "metadata": {},
       "output_type": "display_data",
       "png": "[encoded data removed]",
       "text": [
        "<matplotlib.figure.Figure at 0x4628110>"
       ]
      }
     ],
     "prompt_number": 73
    },
    {
     "cell_type": "heading",
     "level": 2,
     "metadata": {},
     "source": [
      "References\n"
     ]
    },
    {
     "cell_type": "markdown",
     "metadata": {},
     "source": [
      "Cross validation:\n",
      "http://en.wikipedia.org/wiki/Cross-validation_%28statistics%29\n",
      "\n",
      "Coefficient of determination:\n",
      "http://en.wikipedia.org/wiki/Coefficient_of_determination\n",
      "\n",
      "Testing\n",
      "* http://en.wikipedia.org/wiki/Jarque%E2%80%93Bera_test#Jarque.E2.80.93Bera_test_in_regression_analysis\n",
      "* http://en.wikipedia.org/wiki/Lack-of-fit_sum_of_squares\n",
      "\n",
      "Model checking / specification in fMRI:\n",
      "* https://web.njit.edu/~loh/Papers/Sinica.Loh.etal.2008.pdf\n",
      "* http://www.sciencedirect.com/science/article/pii/S1053811902910943\n",
      "* http://www.sciencedirect.com/science/article/pii/S1053811908012056\n",
      "* http://www.sciencedirect.com/science/article/pii/S1053811903001496\n"
     ]
    },
    {
     "cell_type": "code",
     "collapsed": false,
     "input": [],
     "language": "python",
     "metadata": {},
     "outputs": []
    }
   ],
   "metadata": {}
  }
 ]
}