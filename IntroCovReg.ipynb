{
 "metadata": {
  "name": "",
  "signature": "sha256:00d94ccc98e502a03283196c0ef131edf4751266f832f051b6c1fb8e890cc715"
 },
 "nbformat": 3,
 "nbformat_minor": 0,
 "worksheets": [
  {
   "cells": [
    {
     "cell_type": "code",
     "collapsed": false,
     "input": [
      "import numpy as np\n",
      "import sklearn as skl\n",
      "import scipy.linalg as lin\n",
      "# % run ../utils/stats\n",
      "from __future__ import print_function\n",
      "import matplotlib.pylab as plt\n",
      "from sklearn.datasets import make_sparse_spd_matrix"
     ],
     "language": "python",
     "metadata": {},
     "outputs": [],
     "prompt_number": 1,
     "trusted": true
    },
    {
     "cell_type": "heading",
     "level": 2,
     "metadata": {},
     "source": [
      "The problem\n"
     ]
    },
    {
     "cell_type": "heading",
     "level": 3,
     "metadata": {},
     "source": [
      "Some utility functions"
     ]
    },
    {
     "cell_type": "code",
     "collapsed": false,
     "input": [
      "# construct data with a certain covariance matrix\n",
      "\n",
      "def cov2corr(C):\n",
      "    \"\"\"\n",
      "    no check that it is symetric positive\n",
      "    \"\"\"\n",
      "    C = np.asarray(C)\n",
      "    D = 1./np.sqrt(np.diag(C))\n",
      "    C = C*D[np.newaxis]\n",
      "    C = (C.T*D[np.newaxis])\n",
      "    return C \n",
      "\n",
      "\n",
      "def frob_norm(C, scaling=True):\n",
      "    \"\"\"\n",
      "    \"\"\"\n",
      "    return (C**2).sum()/np.min(np.asarray(C.shape))\n",
      "\n",
      "def Cex_vs_Cth(N,T,compare='max'):\n",
      "    \"\"\"\n",
      "    \"\"\"\n",
      "    x = np.random.normal(0,1,size=(N,T))\n",
      "    A = np.random.normal(0,1,size=(N,N))\n",
      "    y = A.dot(x)\n",
      "    Cexp = np.cov(y)\n",
      "    Ctheo = A.dot(A.T)\n",
      "    # np.max(np.abs(Cexp-Ctheo)))\n",
      "    if compare=='max':\n",
      "        return(np.mean(np.abs(cov2corr(Cexp)-cov2corr(Ctheo))))\n",
      "\n",
      "# check \n",
      "C = [[1.0, 1.0,  8.1],\n",
      "     [1.0, 16.0, 18.0],\n",
      "     [8.1, 18.0, 81.0]];\n",
      "\n",
      "np.set_printoptions(precision=3)\n",
      "print(cov2corr(C))\n"
     ],
     "language": "python",
     "metadata": {},
     "outputs": [
      {
       "output_type": "stream",
       "stream": "stdout",
       "text": [
        "[[ 1.    0.25  0.9 ]\n",
        " [ 0.25  1.    0.5 ]\n",
        " [ 0.9   0.5   1.  ]]\n"
       ]
      }
     ],
     "prompt_number": 2,
     "trusted": true
    },
    {
     "cell_type": "heading",
     "level": 2,
     "metadata": {},
     "source": [
      "Two cases: we can estimate a non degenerate covariance - or we cannot"
     ]
    },
    {
     "cell_type": "code",
     "collapsed": false,
     "input": [
      "N = 10\n",
      "T = 20\n",
      "x = np.random.normal(0,1,size=(N,T))\n",
      "A = np.random.normal(0,1,size=(N,N))\n",
      "y = A.dot(x)\n",
      "Cexp = np.cov(y)\n",
      "print(\"np.linalg.matrix_rank(Cexp) {}\".format(np.linalg.matrix_rank(Cexp)))\n",
      "Ctheo = A.dot(A.T)\n",
      "print(np.max(np.abs(Cexp-Ctheo)))\n",
      "print(np.max(np.abs(cov2corr(Cexp)-cov2corr(Ctheo))))\n",
      "print(frob_norm(cov2corr(Cexp)-cov2corr(Ctheo)))\n"
     ],
     "language": "python",
     "metadata": {},
     "outputs": [
      {
       "output_type": "stream",
       "stream": "stdout",
       "text": [
        "np.linalg.matrix_rank(Cexp) 10\n",
        "8.90320197008\n",
        "0.464413039299\n",
        "0.350669182079\n"
       ]
      }
     ],
     "prompt_number": 3,
     "trusted": true
    },
    {
     "cell_type": "code",
     "collapsed": false,
     "input": [],
     "language": "python",
     "metadata": {},
     "outputs": [],
     "prompt_number": 3,
     "trusted": true
    },
    {
     "cell_type": "code",
     "collapsed": false,
     "input": [
      "N = 20\n",
      "T = np.arange(10,500,10)\n",
      "Rep = 1\n",
      "res = [ np.mean(np.asarray([Cex_vs_Cth(N,t) for i in range(Rep)])) \n",
      "                                                   for t in T]\n",
      "line = plt.plot(res)"
     ],
     "language": "python",
     "metadata": {},
     "outputs": [
      {
       "metadata": {},
       "output_type": "display_data",
       "png": "[encoded data removed]",
       "text": [
        "<matplotlib.figure.Figure at 0x34e5390>"
       ]
      }
     ],
     "prompt_number": 4,
     "trusted": true
    },
    {
     "cell_type": "code",
     "collapsed": false,
     "input": [],
     "language": "python",
     "metadata": {},
     "outputs": [],
     "prompt_number": 4,
     "trusted": true
    },
    {
     "cell_type": "heading",
     "level": 2,
     "metadata": {},
     "source": [
      "An (explicit) graphical model example"
     ]
    },
    {
     "cell_type": "code",
     "collapsed": false,
     "input": [
      "# let's make a small number of nodes gaussians, depending on each others\n",
      "N = 7\n",
      "A = np.zeros((N,N))\n",
      "A[0,:] = [1., .8, .3, 0, 0 ,0, 0] \n",
      "A[1,:] = [0, 1., .75, -.3, 0, 0 ,0] \n",
      "A[2,:] = [0, 0., 1., -.3, .4, 0 ,0] \n",
      "A[3,:] = [0, 0, 0, 2, .6, .4, 0] \n",
      "A[4,:] = [0, 0, 0, 0, 1.5, -.2, 0] \n",
      "A[5,:] = [0, 0, 0, 0, .2, 1.2, -.2] \n",
      "A[6,:] = [0, 0, 0, 0, 0, .2, .5] "
     ],
     "language": "python",
     "metadata": {},
     "outputs": [],
     "prompt_number": 5,
     "trusted": true
    },
    {
     "cell_type": "code",
     "collapsed": false,
     "input": [
      "T = 10\n",
      "N = A.shape[0]\n",
      "x = np.random.normal(0,1,size=(N,T))\n",
      "y = A.dot(x)\n",
      "print(y.shape)\n",
      "np.set_printoptions(precision=2)\n",
      "\n",
      "print(\"theoretical corr:\\n\",cov2corr((A.dot(A.T))))\n",
      "print(\"experimental corr:\\n\",np.corrcoef(y),\"\\n\")\n",
      "print(\"theoretical cov:\\n\",((A.dot(A.T))))\n",
      "print(\"experimental cov:\\n\",np.cov(y))\n"
     ],
     "language": "python",
     "metadata": {},
     "outputs": [
      {
       "output_type": "stream",
       "stream": "stdout",
       "text": [
        "(7, 10)\n",
        "theoretical corr:\n",
        " [[ 1.    0.61  0.2   0.    0.    0.    0.  ]\n",
        " [ 0.61  1.    0.58 -0.22  0.    0.    0.  ]\n",
        " [ 0.2   0.58  1.   -0.15  0.35  0.06  0.  ]\n",
        " [ 0.   -0.22 -0.15  1.    0.25  0.23  0.07]\n",
        " [ 0.    0.    0.35  0.25  1.    0.03 -0.05]\n",
        " [ 0.    0.    0.06  0.23  0.03  1.    0.21]\n",
        " [ 0.    0.    0.    0.07 -0.05  0.21  1.  ]]\n",
        "experimental corr:\n",
        " [[ 1.    0.82  0.62 -0.17  0.15 -0.56  0.07]\n",
        " [ 0.82  1.    0.8  -0.47 -0.03 -0.58  0.13]\n",
        " [ 0.62  0.8   1.   -0.59  0.39 -0.14  0.5 ]\n",
        " [-0.17 -0.47 -0.59  1.   -0.09  0.28 -0.25]\n",
        " [ 0.15 -0.03  0.39 -0.09  1.    0.24  0.08]\n",
        " [-0.56 -0.58 -0.14  0.28  0.24  1.    0.33]\n",
        " [ 0.07  0.13  0.5  -0.25  0.08  0.33  1.  ]] \n",
        "\n",
        "theoretical cov:\n",
        " [[ 1.73  1.02  0.3   0.    0.    0.    0.  ]\n",
        " [ 1.02  1.65  0.84 -0.6   0.    0.    0.  ]\n",
        " [ 0.3   0.84  1.25 -0.36  0.6   0.08  0.  ]\n",
        " [ 0.   -0.6  -0.36  4.52  0.82  0.6   0.08]\n",
        " [ 0.    0.    0.6   0.82  2.29  0.06 -0.04]\n",
        " [ 0.    0.    0.08  0.6   0.06  1.52  0.14]\n",
        " [ 0.    0.    0.    0.08 -0.04  0.14  0.29]]\n",
        "experimental cov:\n",
        " [[ 3.3   3.1   1.47 -0.73  0.35 -1.49  0.05]\n",
        " [ 3.1   4.29  2.16 -2.35 -0.09 -1.75  0.11]\n",
        " [ 1.47  2.16  1.72 -1.85  0.66 -0.27  0.29]\n",
        " [-0.73 -2.35 -1.85  5.71 -0.27  0.96 -0.26]\n",
        " [ 0.35 -0.09  0.66 -0.27  1.64  0.45  0.04]\n",
        " [-1.49 -1.75 -0.27  0.96  0.45  2.11  0.21]\n",
        " [ 0.05  0.11  0.29 -0.26  0.04  0.21  0.19]]\n"
       ]
      }
     ],
     "prompt_number": 6,
     "trusted": true
    },
    {
     "cell_type": "markdown",
     "metadata": {},
     "source": [
      "Conclusion: estimation can be real bad with a small number of points.\n",
      "See how bad it gets if you have less data than regions"
     ]
    },
    {
     "cell_type": "heading",
     "level": 3,
     "metadata": {},
     "source": [
      "Graph Lasso Estimation"
     ]
    },
    {
     "cell_type": "code",
     "collapsed": false,
     "input": [
      "skl.__file__"
     ],
     "language": "python",
     "metadata": {},
     "outputs": [
      {
       "metadata": {},
       "output_type": "pyout",
       "prompt_number": 7,
       "text": [
        "'/home/jb/.local/lib/python2.7/site-packages/sklearn/__init__.pyc'"
       ]
      }
     ],
     "prompt_number": 7,
     "trusted": true
    },
    {
     "cell_type": "code",
     "collapsed": false,
     "input": [
      "from sklearn.covariance import GraphLassoCV, GraphLasso, LedoitWolf"
     ],
     "language": "python",
     "metadata": {},
     "outputs": [],
     "prompt_number": 8,
     "trusted": true
    },
    {
     "cell_type": "markdown",
     "metadata": {},
     "source": [
      "####Scikit-learn : cite:\n",
      "\n",
      "Pedregosa, Fabian, Ga\u00ebl Varoquaux, Alexandre Gramfort, Vincent Michel, Bertrand Thirion, Olivier Grisel, Mathieu Blondel, Peter Prettenhofer, Ron Weiss, and Vincent Dubourg. \u201cScikit-Learn: Machine Learning in Python.\u201d The Journal of Machine Learning Research 12 (2011): 2825\u201330."
     ]
    },
    {
     "cell_type": "code",
     "collapsed": false,
     "input": [
      "GL = GraphLassoCV(alphas=10, mode='cd')\n",
      "GL.fit(y.T)"
     ],
     "language": "python",
     "metadata": {},
     "outputs": [
      {
       "metadata": {},
       "output_type": "pyout",
       "prompt_number": 9,
       "text": [
        "GraphLassoCV(alphas=10, assume_centered=False, cv=None, max_iter=100,\n",
        "       mode='cd', n_jobs=1, n_refinements=4, tol=0.0001, verbose=False)"
       ]
      }
     ],
     "prompt_number": 9,
     "trusted": true
    },
    {
     "cell_type": "code",
     "collapsed": false,
     "input": [
      "C_GL = GL.covariance_\n",
      "Prec_GL = GL.precision_"
     ],
     "language": "python",
     "metadata": {},
     "outputs": [],
     "prompt_number": 10,
     "trusted": true
    },
    {
     "cell_type": "heading",
     "level": 4,
     "metadata": {},
     "source": [
      "Compare correlations"
     ]
    },
    {
     "cell_type": "code",
     "collapsed": false,
     "input": [
      "np.set_printoptions(precision=3)\n",
      "Ctheo = A.dot(A.T)\n",
      "print(\"theoretical corr:\\n\",cov2corr(Ctheo))\n",
      "print(\"experimental corr:\\n\",np.corrcoef(y))\n",
      "print(\"GL corr:\\n\",cov2corr(C_GL))\n",
      "print(\" corr_theo - corr_exp : {:2.3f}\".format(frob_norm(cov2corr(Ctheo)-np.corrcoef(y))))\n",
      "print(\" corr_theo - corr_GL : {:2.3f}\".format(frob_norm(cov2corr(Ctheo)-cov2corr(C_GL))))\n"
     ],
     "language": "python",
     "metadata": {},
     "outputs": [
      {
       "output_type": "stream",
       "stream": "stdout",
       "text": [
        "theoretical corr:\n",
        " [[ 1.     0.606  0.204  0.     0.     0.     0.   ]\n",
        " [ 0.606  1.     0.584 -0.22   0.     0.     0.   ]\n",
        " [ 0.204  0.584  1.    -0.151  0.355  0.058  0.   ]\n",
        " [ 0.    -0.22  -0.151  1.     0.255  0.229  0.07 ]\n",
        " [ 0.     0.     0.355  0.255  1.     0.032 -0.049]\n",
        " [ 0.     0.     0.058  0.229  0.032  1.     0.211]\n",
        " [ 0.     0.     0.     0.07  -0.049  0.211  1.   ]]\n",
        "experimental corr:\n",
        " [[ 1.     0.825  0.617 -0.168  0.152 -0.565  0.069]\n",
        " [ 0.825  1.     0.796 -0.474 -0.034 -0.582  0.127]\n",
        " [ 0.617  0.796  1.    -0.591  0.392 -0.141  0.502]\n",
        " [-0.168 -0.474 -0.591  1.    -0.088  0.275 -0.25 ]\n",
        " [ 0.152 -0.034  0.392 -0.088  1.     0.245  0.075]\n",
        " [-0.565 -0.582 -0.141  0.275  0.245  1.     0.325]\n",
        " [ 0.069  0.127  0.502 -0.25   0.075  0.325  1.   ]]\n",
        "GL corr:\n",
        " [[ 1.     0.727  0.469 -0.253  0.051 -0.425  0.   ]\n",
        " [ 0.727  1.     0.66  -0.4    0.086 -0.459  0.   ]\n",
        " [ 0.469  0.66   1.    -0.473  0.172 -0.291  0.   ]\n",
        " [-0.253 -0.4   -0.473  1.    -0.078  0.173  0.   ]\n",
        " [ 0.051  0.086  0.172 -0.078  1.     0.046  0.   ]\n",
        " [-0.425 -0.459 -0.291  0.173  0.046  1.     0.   ]\n",
        " [ 0.     0.     0.     0.     0.     0.     1.   ]]\n",
        " corr_theo - corr_exp : 0.526\n",
        " corr_theo - corr_GL : 0.289\n"
       ]
      }
     ],
     "prompt_number": 11,
     "trusted": true
    },
    {
     "cell_type": "heading",
     "level": 4,
     "metadata": {},
     "source": [
      "Compare Covariances"
     ]
    },
    {
     "cell_type": "code",
     "collapsed": false,
     "input": [
      "print(\"theoretical cov:\\n\",Ctheo)\n",
      "print(\"experimental cov:\\n\",np.cov(y))\n",
      "print(\"GL cov:\\n\",C_GL)\n",
      "print(\" Ctheo - Cexp : {:2.3f}\".format(frob_norm(Ctheo-np.cov(y))))\n",
      "print(\" Ctheo - C_GL : {:2.3f}\".format(frob_norm(Ctheo-C_GL)))"
     ],
     "language": "python",
     "metadata": {},
     "outputs": [
      {
       "output_type": "stream",
       "stream": "stdout",
       "text": [
        "theoretical cov:\n",
        " [[ 1.73   1.025  0.3    0.     0.     0.     0.   ]\n",
        " [ 1.025  1.653  0.84  -0.6    0.     0.     0.   ]\n",
        " [ 0.3    0.84   1.25  -0.36   0.6    0.08   0.   ]\n",
        " [ 0.    -0.6   -0.36   4.52   0.82   0.6    0.08 ]\n",
        " [ 0.     0.     0.6    0.82   2.29   0.06  -0.04 ]\n",
        " [ 0.     0.     0.08   0.6    0.06   1.52   0.14 ]\n",
        " [ 0.     0.     0.     0.08  -0.04   0.14   0.29 ]]\n",
        "experimental cov:\n",
        " [[ 3.299  3.104  1.47  -0.729  0.352 -1.49   0.054]\n",
        " [ 3.104  4.294  2.163 -2.35  -0.089 -1.751  0.114]\n",
        " [ 1.47   2.163  1.72  -1.851  0.658 -0.268  0.287]\n",
        " [-0.729 -2.35  -1.851  5.711 -0.269  0.955 -0.26 ]\n",
        " [ 0.352 -0.089  0.658 -0.269  1.635  0.454  0.042]\n",
        " [-1.49  -1.751 -0.268  0.955  0.454  2.109  0.205]\n",
        " [ 0.054  0.114  0.287 -0.26   0.042  0.205  0.189]]\n",
        "GL cov:\n",
        " [[ 2.969  2.461  1.006 -0.988  0.106 -1.008  0.   ]\n",
        " [ 2.461  3.864  1.614 -1.782  0.204 -1.243  0.   ]\n",
        " [ 1.006  1.614  1.548 -1.334  0.26  -0.499  0.   ]\n",
        " [-0.988 -1.782 -1.334  5.14  -0.214  0.54   0.   ]\n",
        " [ 0.106  0.204  0.26  -0.214  1.472  0.077  0.   ]\n",
        " [-1.008 -1.243 -0.499  0.54   0.077  1.898  0.   ]\n",
        " [ 0.     0.     0.     0.     0.     0.     0.17 ]]\n",
        " Ctheo - Cexp : 7.549\n",
        " Ctheo - C_GL : 4.147\n"
       ]
      }
     ],
     "prompt_number": 12,
     "trusted": true
    },
    {
     "cell_type": "heading",
     "level": 3,
     "metadata": {},
     "source": [
      "Ledoit-Wolf estimator"
     ]
    },
    {
     "cell_type": "markdown",
     "metadata": {},
     "source": [
      "(1 - shrinkage)*cov\n",
      "        + shrinkage*mu*np.identity(n_features)\n",
      "\n",
      "with \n",
      "\n",
      "* mu from \n",
      "     mu = trace(cov) / n_features\n",
      "* shrinkage from\n",
      "    \u201cA Well-Conditioned Estimator for Large-Dimensional Covariance Matrices\u201d, Ledoit and Wolf, Journal of Multivariate Analysis, Volume 88, Issue 2, February 2004, pages 365-411."
     ]
    },
    {
     "cell_type": "code",
     "collapsed": false,
     "input": [
      "LW = LedoitWolf(store_precision=True, assume_centered=False, block_size=1000)\n",
      "LW.fit(y.T)"
     ],
     "language": "python",
     "metadata": {},
     "outputs": [
      {
       "metadata": {},
       "output_type": "pyout",
       "prompt_number": 13,
       "text": [
        "LedoitWolf(assume_centered=False, block_size=1000, store_precision=True)"
       ]
      }
     ],
     "prompt_number": 13,
     "trusted": true
    },
    {
     "cell_type": "code",
     "collapsed": false,
     "input": [
      "C_LW = LW.covariance_"
     ],
     "language": "python",
     "metadata": {},
     "outputs": [],
     "prompt_number": 14,
     "trusted": true
    },
    {
     "cell_type": "code",
     "collapsed": false,
     "input": [
      "print(\"theoretical cov:\\n\",Ctheo)\n",
      "print(\"experimental cov:\\n\",np.cov(y))\n",
      "print(\"LW cov:\\n\",C_LW)\n",
      "print(\" Ctheo - Cexp : {:2.3f}\".format(frob_norm(Ctheo-np.cov(y))))\n",
      "print(\" Ctheo - C_GL : {:2.3f}\".format(frob_norm(Ctheo-C_GL)))\n",
      "print(\" Ctheo - C_LW : {:2.3f}\".format(frob_norm(Ctheo-C_LW)))"
     ],
     "language": "python",
     "metadata": {},
     "outputs": [
      {
       "output_type": "stream",
       "stream": "stdout",
       "text": [
        "theoretical cov:\n",
        " [[ 1.73   1.025  0.3    0.     0.     0.     0.   ]\n",
        " [ 1.025  1.653  0.84  -0.6    0.     0.     0.   ]\n",
        " [ 0.3    0.84   1.25  -0.36   0.6    0.08   0.   ]\n",
        " [ 0.    -0.6   -0.36   4.52   0.82   0.6    0.08 ]\n",
        " [ 0.     0.     0.6    0.82   2.29   0.06  -0.04 ]\n",
        " [ 0.     0.     0.08   0.6    0.06   1.52   0.14 ]\n",
        " [ 0.     0.     0.     0.08  -0.04   0.14   0.29 ]]\n",
        "experimental cov:\n",
        " [[ 3.299  3.104  1.47  -0.729  0.352 -1.49   0.054]\n",
        " [ 3.104  4.294  2.163 -2.35  -0.089 -1.751  0.114]\n",
        " [ 1.47   2.163  1.72  -1.851  0.658 -0.268  0.287]\n",
        " [-0.729 -2.35  -1.851  5.711 -0.269  0.955 -0.26 ]\n",
        " [ 0.352 -0.089  0.658 -0.269  1.635  0.454  0.042]\n",
        " [-1.49  -1.751 -0.268  0.955  0.454  2.109  0.205]\n",
        " [ 0.054  0.114  0.287 -0.26   0.042  0.205  0.189]]\n",
        "LW cov:\n",
        " [[ 2.73   1.54   0.729 -0.361  0.175 -0.739  0.027]\n",
        " [ 1.54   3.224  1.073 -1.165 -0.044 -0.868  0.057]\n",
        " [ 0.729  1.073  1.947 -0.918  0.326 -0.133  0.142]\n",
        " [-0.361 -1.165 -0.918  3.927 -0.133  0.474 -0.129]\n",
        " [ 0.175 -0.044  0.326 -0.133  1.905  0.225  0.021]\n",
        " [-0.739 -0.868 -0.133  0.474  0.225  2.14   0.102]\n",
        " [ 0.027  0.057  0.142 -0.129  0.021  0.102  1.188]]\n",
        " Ctheo - Cexp : 7.549\n",
        " Ctheo - C_GL : 4.147\n",
        " Ctheo - C_LW : 1.876\n"
       ]
      }
     ],
     "prompt_number": 15,
     "trusted": true
    },
    {
     "cell_type": "code",
     "collapsed": false,
     "input": [],
     "language": "python",
     "metadata": {},
     "outputs": [],
     "prompt_number": 15,
     "trusted": true
    },
    {
     "cell_type": "markdown",
     "metadata": {},
     "source": []
    },
    {
     "cell_type": "heading",
     "level": 2,
     "metadata": {},
     "source": [
      "Trying out other things : not relevant today"
     ]
    },
    {
     "cell_type": "heading",
     "level": 4,
     "metadata": {},
     "source": [
      "Simulate a sparse precision matrix.  Conclusion: if N>=50, it becomes hard to fin tril matrices that are not rank deficient"
     ]
    },
    {
     "cell_type": "code",
     "collapsed": false,
     "input": [
      "def iround(x):\n",
      "    \"\"\"iround(number) -> integer\n",
      "    Round a number to the nearest integer.\"\"\"\n",
      "    y = round(x) - .5\n",
      "    return int(y) + (y > 0)\n"
     ],
     "language": "python",
     "metadata": {},
     "outputs": [],
     "prompt_number": 16,
     "trusted": true
    },
    {
     "cell_type": "code",
     "collapsed": false,
     "input": [
      "# create a covariance matrix of N nodes with T time values (repetitions) and sparsity of \n",
      "# precision matrix is L% \n",
      "\n",
      "\n",
      "def sim_sqrtP(N, L, scalef=None):\n",
      "    \"\"\"\n",
      "    N : create a NxN matrix\n",
      "    L : put L% zeros in the sqrtP matrix\n",
      "    scalef : scaling factor of the entries of P\n",
      "    \"\"\"\n",
      "    \n",
      "    if scalef is None:\n",
      "        scalef = N \n",
      "    \n",
      "    def arr_entries(n, scalef=scalef):\n",
      "        # returns n values drawn from N(0,1) and multiplied by f\n",
      "        return np.abs(np.random.randn(n))*scalef    \n",
      "    \n",
      "    # get the (N,N) strict lower triang matrix indices from a (N-1,N-1) lower tri matrix  \n",
      "    zeros_arr = np.zeros((N-1,N-1))\n",
      "    tri_indices = np.tril_indices_from(zeros_arr)\n",
      "    n_tri = tri_indices[0].shape[0]\n",
      "\n",
      "    # precision matrix\n",
      "    P = np.zeros((N,N))\n",
      "               \n",
      "    n_zeros = iround(n_tri*L)\n",
      "    # generate the strict low tri values \n",
      "    z = arr_entries(n_tri)\n",
      "    z[:n_zeros] = 0\n",
      "    z = np.random.permutation(z)\n",
      "    # fill P : push the indices by one towards the bottom of P\n",
      "    P[(tri_indices[0]+1, tri_indices[1])] = z\n",
      "    # fill the diagonal - sq\n",
      "    P[(np.arange(N),np.arange(N))] = arr_entries(N, scalef=scalef)\n",
      "    \n",
      "    return P\n",
      "\n",
      "#    rkP = np.linalg.matrix_rank(P)\n",
      "#    if rkP < N:\n",
      "#        print(\"rank deficient {}\".format(rkP))\n",
      "#        return None\n",
      "    \n",
      "\n",
      "#    try:\n",
      "#        assert int((N)*(N-1)/2) == n_tri\n",
      "#    except:\n",
      "#        print(\"Aie : {} differ from {}\".format(int((N)*(N-1)/2), n_tri))\n"
     ],
     "language": "python",
     "metadata": {},
     "outputs": [],
     "prompt_number": 20,
     "trusted": true
    },
    {
     "cell_type": "code",
     "collapsed": false,
     "input": [
      "N = 6\n",
      "Z = np.zeros((N,N))\n",
      "sqrtP = sim_sqrtP(7, .5, 1.)\n",
      "np.set_printoptions(precision=1)\n",
      "print('{}\\n'.format(sqrtP))\n",
      "Prec = sqrtP.dot(sqrtP.T)\n",
      "print(Prec,\"\\n\")\n",
      "print((Prec==0.).sum())\n",
      "Prec2 = sqrtP.T.dot(sqrtP)\n",
      "print(Prec2,\"\\n\")\n",
      "print((Prec2==0.).sum())\n",
      "\n",
      "#print(lin.inv(Prec))"
     ],
     "language": "python",
     "metadata": {},
     "outputs": [
      {
       "output_type": "stream",
       "stream": "stdout",
       "text": [
        "[[ 0.2  0.   0.   0.   0.   0.   0. ]\n",
        " [ 0.1  0.6  0.   0.   0.   0.   0. ]\n",
        " [ 0.   1.6  0.1  0.   0.   0.   0. ]\n",
        " [ 0.1  1.3  0.   0.   0.   0.   0. ]\n",
        " [ 0.   0.   0.5  0.   1.4  0.   0. ]\n",
        " [ 0.1  0.4  1.4  0.   0.   0.9  0. ]\n",
        " [ 0.4  0.   0.   0.1  0.   0.   0.5]]\n",
        "\n",
        "[[ 0.1  0.   0.   0.   0.   0.   0.1]\n",
        " [ 0.   0.4  1.   0.8  0.   0.2  0. ]\n",
        " [ 0.   1.   2.5  2.   0.   0.7  0. ]\n",
        " [ 0.   0.8  2.   1.6  0.   0.5  0.1]\n",
        " [ 0.   0.   0.   0.   2.1  0.7  0. ]\n",
        " [ 0.   0.2  0.7  0.5  0.7  2.9  0. ]\n",
        " [ 0.1  0.   0.   0.1  0.   0.   0.5]] \n",
        "\n",
        "12\n",
        "[[ 0.3  0.2  0.1  0.1  0.   0.1  0.2]\n",
        " [ 0.2  4.6  0.6  0.   0.   0.3  0. ]\n",
        " [ 0.1  0.6  2.3  0.   0.7  1.2  0. ]\n",
        " [ 0.1  0.   0.   0.   0.   0.   0.1]\n",
        " [ 0.   0.   0.7  0.   1.8  0.   0. ]\n",
        " [ 0.1  0.3  1.2  0.   0.   0.8  0. ]\n",
        " [ 0.2  0.   0.   0.1  0.   0.   0.2]] \n",
        "\n",
        "20\n"
       ]
      }
     ],
     "prompt_number": 45,
     "trusted": true
    },
    {
     "cell_type": "code",
     "collapsed": false,
     "input": [
      "N = 200\n",
      "M = sim_sqrtP(N, .7, scalef=1.)\n",
      "rk = np.linalg.matrix_rank(M)\n",
      "print(rk)\n",
      "(u, s, vt) = lin.svd(M, full_matrices=False)\n",
      "plt.plot(s[N-5:])"
     ],
     "language": "python",
     "metadata": {},
     "outputs": [
      {
       "output_type": "stream",
       "stream": "stdout",
       "text": [
        "197\n"
       ]
      },
      {
       "metadata": {},
       "output_type": "pyout",
       "prompt_number": 49,
       "text": [
        "[<matplotlib.lines.Line2D at 0x41d7a90>]"
       ]
      },
      {
       "metadata": {},
       "output_type": "display_data",
       "png": "[encoded data removed]",
       "text": [
        "<matplotlib.figure.Figure at 0x39d7c50>"
       ]
      }
     ],
     "prompt_number": 49,
     "trusted": true
    },
    {
     "cell_type": "code",
     "collapsed": false,
     "input": [
      "\n",
      "print(s[N-5:])\n",
      "plt.plot(u[1:15,N-1])"
     ],
     "language": "python",
     "metadata": {},
     "outputs": [
      {
       "output_type": "stream",
       "stream": "stdout",
       "text": [
        "[  5.9e-04   2.6e-05   2.8e-07   8.7e-11   3.7e-15]\n"
       ]
      },
      {
       "metadata": {},
       "output_type": "pyout",
       "prompt_number": 19,
       "text": [
        "[<matplotlib.lines.Line2D at 0x3ff6690>]"
       ]
      }
     ],
     "prompt_number": 19,
     "trusted": true
    },
    {
     "cell_type": "code",
     "collapsed": false,
     "input": [
      "nulld = u[:,-1]\n",
      "print(nulld[:10])\n",
      "print(M.T.dot(nulld).T)"
     ],
     "language": "python",
     "metadata": {},
     "outputs": [
      {
       "output_type": "stream",
       "stream": "stdout",
       "text": [
        "[  9.8e-01  -2.0e-01  -1.7e-05   3.9e-02  -3.0e-02   6.8e-03  -5.8e-05\n",
        "   3.8e-04  -1.4e-03   7.5e-04]\n",
        "[  5.3e-15  -1.2e-15   4.4e-15  -1.4e-15   4.7e-16  -2.3e-15  -1.1e-15\n",
        "  -2.5e-15  -1.7e-16  -1.1e-15   1.4e-16   3.4e-16  -1.5e-15   4.0e-16\n",
        "   2.2e-15   7.7e-16  -1.2e-16  -7.9e-16   1.9e-15   9.8e-16   4.0e-16\n",
        "  -3.4e-16  -3.9e-15  -1.4e-16  -1.6e-15   4.2e-17   2.9e-16  -2.7e-15\n",
        "  -7.0e-16  -1.7e-15  -2.2e-15  -2.7e-16   8.1e-16   1.1e-15  -8.9e-16\n",
        "  -9.7e-17   2.2e-15   7.2e-16  -1.8e-15  -1.8e-16  -1.9e-15   1.7e-16\n",
        "  -1.4e-16   6.1e-16   3.2e-16   8.6e-16  -1.0e-15  -1.2e-15  -2.9e-16\n",
        "  -2.2e-16  -4.8e-16  -1.4e-15  -9.3e-16   1.2e-16   1.2e-15   9.2e-17\n",
        "   1.6e-16   9.4e-16  -9.8e-16  -5.1e-16  -4.8e-16   1.3e-15  -2.9e-16\n",
        "  -6.0e-16  -5.4e-16  -5.8e-17  -1.0e-15   4.0e-16  -2.1e-16  -3.9e-16\n",
        "   4.2e-16   4.7e-16   3.9e-16  -3.6e-16   6.6e-16   5.5e-16   1.1e-16\n",
        "   7.6e-16   4.6e-16   2.0e-16   7.0e-16   4.0e-16   4.6e-16  -1.7e-17\n",
        "  -1.7e-16  -1.0e-16  -3.1e-16  -1.0e-16  -3.6e-16   4.9e-16  -2.4e-16\n",
        "  -1.7e-16  -9.1e-19  -6.4e-17  -1.0e-16   6.1e-17   1.2e-16  -6.1e-18\n",
        "  -7.6e-17  -9.8e-17]\n"
       ]
      }
     ],
     "prompt_number": 20,
     "trusted": true
    },
    {
     "cell_type": "code",
     "collapsed": false,
     "input": [
      "prng = np.random.RandomState(1)\n"
     ],
     "language": "python",
     "metadata": {},
     "outputs": [],
     "prompt_number": 170,
     "trusted": true
    },
    {
     "cell_type": "code",
     "collapsed": false,
     "input": [
      "# Generate the data\n",
      "n_samples = 1000\n",
      "n_features = 500\n",
      "\n",
      "prec = make_sparse_spd_matrix(n_features, alpha=.5,\n",
      "                              smallest_coef=.4,\n",
      "                              largest_coef=.7,\n",
      "                              random_state=prng)\n",
      "np.linalg.matrix_rank(prec)"
     ],
     "language": "python",
     "metadata": {},
     "outputs": [
      {
       "metadata": {},
       "output_type": "pyout",
       "prompt_number": 208,
       "text": [
        "493"
       ]
      }
     ],
     "prompt_number": 208,
     "trusted": true
    },
    {
     "cell_type": "code",
     "collapsed": false,
     "input": [],
     "language": "python",
     "metadata": {},
     "outputs": [],
     "trusted": true
    }
   ],
   "metadata": {}
  }
 ]
}