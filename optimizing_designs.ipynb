{
 "metadata": {
  "name": "",
  "signature": "sha256:ce82e90e38249c3c0bb003152a1ddac1afad54220812ccbe64eba66188a8defe"
 },
 "nbformat": 3,
 "nbformat_minor": 0,
 "worksheets": [
  {
   "cells": [
    {
     "cell_type": "markdown",
     "metadata": {},
     "source": [
      "# Optimizing experimental designs for power"
     ]
    },
    {
     "cell_type": "code",
     "collapsed": false,
     "input": [
      "from __future__ import print_function\n",
      "from __future__ import division"
     ],
     "language": "python",
     "metadata": {},
     "outputs": [],
     "prompt_number": 1
    },
    {
     "cell_type": "code",
     "collapsed": false,
     "input": [
      "import numpy as np\n",
      "import numpy.linalg as npl\n",
      "import matplotlib.pyplot as plt"
     ],
     "language": "python",
     "metadata": {},
     "outputs": [],
     "prompt_number": 2
    },
    {
     "cell_type": "code",
     "collapsed": false,
     "input": [
      "%matplotlib inline"
     ],
     "language": "python",
     "metadata": {},
     "outputs": [],
     "prompt_number": 3
    },
    {
     "cell_type": "markdown",
     "metadata": {},
     "source": [
      "Remember that the students-t statistic is:\n",
      "\n",
      "$$\n",
      "t = \\frac{c^T \\hat\\beta}{\\sqrt{\\mathrm{var}(c^T \\hat\\beta)}}\n",
      "$$\n",
      "\n",
      "which works out to:\n",
      "\n",
      "$$\n",
      "t = \\frac{c^T \\hat\\beta}{\\sqrt{\\hat{\\sigma}^2 c^T (X^T X)^+ c}}\n",
      "$$\n",
      "\n",
      "where $\\hat{\\sigma}^2$ is our estimate of variance in the residuals, and $(X^T X)^+$ is the [pseudo-inverse](https://en.wikipedia.org/wiki/Moore%E2%80%93Penrose_pseudoinverse) of $X^T X$."
     ]
    },
    {
     "cell_type": "code",
     "collapsed": false,
     "input": [
      "from nipy.modalities.fmri.design import block_design, natural_spline, stack2designs\n",
      "from nipy.modalities.fmri import hrf"
     ],
     "language": "python",
     "metadata": {},
     "outputs": [],
     "prompt_number": 4
    },
    {
     "cell_type": "code",
     "collapsed": false,
     "input": [
      "times = np.arange(0, 240, 2)  # TR onset times\n",
      "T = len(times)"
     ],
     "language": "python",
     "metadata": {},
     "outputs": [],
     "prompt_number": 5
    },
    {
     "cell_type": "code",
     "collapsed": false,
     "input": [
      "def random_onsets(times, p_thresh = 0.5):\n",
      "    is_onset = np.random.uniform(size=times.shape) > p_thresh\n",
      "    return times[is_onset]"
     ],
     "language": "python",
     "metadata": {},
     "outputs": [],
     "prompt_number": 6
    },
    {
     "cell_type": "code",
     "collapsed": false,
     "input": [
      "isis = np.diff(random_onsets(times))\n",
      "print(isis)\n",
      "_ = plt.hist(isis)"
     ],
     "language": "python",
     "metadata": {},
     "outputs": [
      {
       "output_type": "stream",
       "stream": "stdout",
       "text": [
        "[ 2  2  4  4  8  4  2 10  2  4 10  2  6  2  2  6 10  8  2  2  2  4  2  2  2\n",
        "  8  2  4  2  2 16  2  2  4  4  8  4  2 10  2  6  4  2  4  2  2  6  2  2  2\n",
        "  2  2  2  4  2  4  2  2  4  4]\n"
       ]
      },
      {
       "metadata": {},
       "output_type": "display_data",
       "png": "[encoded data removed]",
       "text": [
        "<matplotlib.figure.Figure at 0x69f0d10>"
       ]
      }
     ],
     "prompt_number": 7
    },
    {
     "cell_type": "code",
     "collapsed": false,
     "input": [
      "onsets = random_onsets(times)\n",
      "n_onsets = len(onsets)\n",
      "offsets = onsets + 1.\n",
      "block_spec = np.ones(n_onsets, dtype=([('start', float), ('end', float), ('type', int)]))\n",
      "block_spec['start'] = onsets\n",
      "block_spec['end'] = offsets\n",
      "print(block_spec)"
     ],
     "language": "python",
     "metadata": {},
     "outputs": [
      {
       "output_type": "stream",
       "stream": "stdout",
       "text": [
        "[(0.0, 1.0, 1) (8.0, 9.0, 1) (10.0, 11.0, 1) (12.0, 13.0, 1)\n",
        " (14.0, 15.0, 1) (16.0, 17.0, 1) (20.0, 21.0, 1) (26.0, 27.0, 1)\n",
        " (42.0, 43.0, 1) (44.0, 45.0, 1) (48.0, 49.0, 1) (54.0, 55.0, 1)\n",
        " (58.0, 59.0, 1) (62.0, 63.0, 1) (64.0, 65.0, 1) (68.0, 69.0, 1)\n",
        " (70.0, 71.0, 1) (74.0, 75.0, 1) (76.0, 77.0, 1) (78.0, 79.0, 1)\n",
        " (80.0, 81.0, 1) (82.0, 83.0, 1) (84.0, 85.0, 1) (90.0, 91.0, 1)\n",
        " (92.0, 93.0, 1) (94.0, 95.0, 1) (100.0, 101.0, 1) (106.0, 107.0, 1)\n",
        " (108.0, 109.0, 1) (112.0, 113.0, 1) (114.0, 115.0, 1) (116.0, 117.0, 1)\n",
        " (118.0, 119.0, 1) (120.0, 121.0, 1) (134.0, 135.0, 1) (138.0, 139.0, 1)\n",
        " (142.0, 143.0, 1) (150.0, 151.0, 1) (154.0, 155.0, 1) (156.0, 157.0, 1)\n",
        " (160.0, 161.0, 1) (166.0, 167.0, 1) (170.0, 171.0, 1) (172.0, 173.0, 1)\n",
        " (176.0, 177.0, 1) (180.0, 181.0, 1) (186.0, 187.0, 1) (194.0, 195.0, 1)\n",
        " (198.0, 199.0, 1) (202.0, 203.0, 1) (204.0, 205.0, 1) (212.0, 213.0, 1)\n",
        " (214.0, 215.0, 1) (216.0, 217.0, 1) (218.0, 219.0, 1) (220.0, 221.0, 1)\n",
        " (230.0, 231.0, 1) (236.0, 237.0, 1)]\n"
       ]
      }
     ],
     "prompt_number": 8
    },
    {
     "cell_type": "code",
     "collapsed": false,
     "input": [
      "def random_design(times, duration=1):\n",
      "    onsets = random_onsets(times)\n",
      "    offsets = onsets + duration\n",
      "    n_onsets = len(onsets)\n",
      "    block_spec = np.ones(n_onsets, dtype=([('start', float), ('end', float), ('type', int)]))\n",
      "    block_spec['start'] = onsets\n",
      "    block_spec['end'] = offsets\n",
      "    return block_design(block_spec, times, hrfs=[hrf.spm])"
     ],
     "language": "python",
     "metadata": {},
     "outputs": [],
     "prompt_number": 10
    },
    {
     "cell_type": "heading",
     "level": 3,
     "metadata": {},
     "source": [
      "An example of output of random_design"
     ]
    },
    {
     "cell_type": "code",
     "collapsed": false,
     "input": [
      "X, contrasts = random_design(times)\n",
      "plt.plot(times, X)\n",
      "print(contrasts)\n",
      "print(X.shape)"
     ],
     "language": "python",
     "metadata": {},
     "outputs": [
      {
       "output_type": "stream",
       "stream": "stdout",
       "text": [
        "{'constant_0': array(0.9999999999999998)}\n",
        "(120,)\n"
       ]
      },
      {
       "metadata": {},
       "output_type": "display_data",
       "png": "[encoded data removed]",
       "text": [
        "<matplotlib.figure.Figure at 0x69ea350>"
       ]
      }
     ],
     "prompt_number": 12
    },
    {
     "cell_type": "code",
     "collapsed": false,
     "input": [
      "contrasts"
     ],
     "language": "python",
     "metadata": {},
     "outputs": [
      {
       "metadata": {},
       "output_type": "pyout",
       "prompt_number": 13,
       "text": [
        "{'constant_0': array(0.9999999999999998)}"
       ]
      }
     ],
     "prompt_number": 13
    },
    {
     "cell_type": "code",
     "collapsed": false,
     "input": [
      "best_design = None\n",
      "best_efficiency = 0\n",
      "n_iters = 1000\n",
      "efficiencies = np.zeros(n_iters)\n",
      "splines = natural_spline(times)\n",
      "for i in range(n_iters):\n",
      "    X_ev, contrasts_ev = random_design(times)\n",
      "    X, contrasts = stack2designs(X_ev, splines, contrasts_ev)\n",
      "    C = contrasts['constant_0'][:, None]\n",
      "    efficiency = 1. / C.T.dot(npl.pinv(X.T.dot(X)).dot(C))\n",
      "    efficiencies[i] = efficiency\n",
      "    if efficiency > best_efficiency:\n",
      "        best_efficiency = efficiency\n",
      "        best_design = X"
     ],
     "language": "python",
     "metadata": {},
     "outputs": [],
     "prompt_number": 26
    },
    {
     "cell_type": "code",
     "collapsed": false,
     "input": [
      "stack2designs?"
     ],
     "language": "python",
     "metadata": {},
     "outputs": [],
     "prompt_number": 35
    },
    {
     "cell_type": "code",
     "collapsed": false,
     "input": [
      "natural_spline?"
     ],
     "language": "python",
     "metadata": {},
     "outputs": [],
     "prompt_number": 36
    },
    {
     "cell_type": "code",
     "collapsed": false,
     "input": [
      "import scipy.stats as sst\n",
      "m = sst.scoreatpercentile(efficiencies, 95)\n",
      "_ = plt.hist(efficiencies[efficiencies>m], bins=100)"
     ],
     "language": "python",
     "metadata": {},
     "outputs": [
      {
       "metadata": {},
       "output_type": "display_data",
       "png": "[encoded data removed]",
       "text": [
        "<matplotlib.figure.Figure at 0x5af1250>"
       ]
      }
     ],
     "prompt_number": 31
    },
    {
     "cell_type": "code",
     "collapsed": false,
     "input": [
      "efficiency"
     ],
     "language": "python",
     "metadata": {},
     "outputs": [
      {
       "metadata": {},
       "output_type": "pyout",
       "prompt_number": 32,
       "text": [
        "array([[ 246.99594337]])"
       ]
      }
     ],
     "prompt_number": 32
    },
    {
     "cell_type": "code",
     "collapsed": false,
     "input": [
      "best_efficiency"
     ],
     "language": "python",
     "metadata": {},
     "outputs": [
      {
       "metadata": {},
       "output_type": "pyout",
       "prompt_number": 33,
       "text": [
        "array([[ 536279.39124343]])"
       ]
      }
     ],
     "prompt_number": 33
    },
    {
     "cell_type": "code",
     "collapsed": false,
     "input": [
      "plt.plot(best_design[:,0])"
     ],
     "language": "python",
     "metadata": {},
     "outputs": [
      {
       "metadata": {},
       "output_type": "pyout",
       "prompt_number": 34,
       "text": [
        "[<matplotlib.lines.Line2D at 0x2354a550>]"
       ]
      },
      {
       "metadata": {},
       "output_type": "display_data",
       "png": "[encoded data removed]",
       "text": [
        "<matplotlib.figure.Figure at 0x54f6ad0>"
       ]
      }
     ],
     "prompt_number": 34
    },
    {
     "cell_type": "code",
     "collapsed": false,
     "input": [],
     "language": "python",
     "metadata": {},
     "outputs": []
    }
   ],
   "metadata": {}
  }
 ]
}