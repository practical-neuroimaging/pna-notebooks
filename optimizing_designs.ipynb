{
 "metadata": {
  "name": "",
  "signature": "sha256:733a2b40aaaf8752d00addf0ef59507fb53370b4f7d58e004e507b30750127ad"
 },
 "nbformat": 3,
 "nbformat_minor": 0,
 "worksheets": [
  {
   "cells": [
    {
     "cell_type": "markdown",
     "metadata": {},
     "source": [
      "# Optimizing experimental designs for power"
     ]
    },
    {
     "cell_type": "code",
     "collapsed": false,
     "input": [
      "from __future__ import print_function\n",
      "from __future__ import division"
     ],
     "language": "python",
     "metadata": {},
     "outputs": [],
     "prompt_number": 1
    },
    {
     "cell_type": "code",
     "collapsed": false,
     "input": [
      "import numpy as np\n",
      "import numpy.linalg as npl\n",
      "import matplotlib.pyplot as plt"
     ],
     "language": "python",
     "metadata": {},
     "outputs": [],
     "prompt_number": 2
    },
    {
     "cell_type": "code",
     "collapsed": false,
     "input": [
      "%matplotlib inline"
     ],
     "language": "python",
     "metadata": {},
     "outputs": [],
     "prompt_number": 3
    },
    {
     "cell_type": "markdown",
     "metadata": {},
     "source": [
      "Remember that the students-t statistic is:\n",
      "\n",
      "$$\n",
      "t = \\frac{c^T \\hat\\beta}{\\sqrt{\\mathrm{var}(c^T \\hat\\beta)}}\n",
      "$$\n",
      "\n",
      "which works out to:\n",
      "\n",
      "$$\n",
      "t = \\frac{c^T \\hat\\beta}{\\sqrt{\\hat{\\sigma}^2 c^T (X^T X)^+ c}}\n",
      "$$\n",
      "\n",
      "where $\\hat{\\sigma}^2$ is our estimate of variance in the residuals, and $(X^T X)^+$ is the [pseudo-inverse](https://en.wikipedia.org/wiki/Moore%E2%80%93Penrose_pseudoinverse) of $X^T X$."
     ]
    },
    {
     "cell_type": "code",
     "collapsed": false,
     "input": [
      "from nipy.modalities.fmri.design import block_design, natural_spline, stack2designs\n",
      "from nipy.modalities.fmri import hrf"
     ],
     "language": "python",
     "metadata": {},
     "outputs": [],
     "prompt_number": 4
    },
    {
     "cell_type": "code",
     "collapsed": false,
     "input": [
      "times = np.arange(0, 240, 2)  # TR onset times\n",
      "T = len(times)"
     ],
     "language": "python",
     "metadata": {},
     "outputs": [],
     "prompt_number": 5
    },
    {
     "cell_type": "code",
     "collapsed": false,
     "input": [
      "def random_onsets(times, p_thresh = 0.5):\n",
      "    is_onset = np.random.uniform(size=times.shape) > p_thresh\n",
      "    return times[is_onset]"
     ],
     "language": "python",
     "metadata": {},
     "outputs": [],
     "prompt_number": 6
    },
    {
     "cell_type": "code",
     "collapsed": false,
     "input": [
      "isis = np.diff(random_onsets(times))\n",
      "print(isis)\n",
      "_ = plt.hist(isis)"
     ],
     "language": "python",
     "metadata": {},
     "outputs": [
      {
       "output_type": "stream",
       "stream": "stdout",
       "text": [
        "[ 6 10  4  2  4 10  2  6  2  6  6  2  2 10  4  6  4  6  2  2  2  2  2  6  2\n",
        "  2  2  2  8  8  2  2  2  2  2  4  2  6  4  2  2  2  4  2  2  6  2  2  2  6\n",
        "  2  4  2  2  6  2  4  2  4  2  2  4  4  2]\n"
       ]
      },
      {
       "metadata": {},
       "output_type": "display_data",
       "png": "[encoded data removed]",
       "text": [
        "<matplotlib.figure.Figure at 0x512ad10>"
       ]
      }
     ],
     "prompt_number": 7
    },
    {
     "cell_type": "code",
     "collapsed": false,
     "input": [
      "onsets = random_onsets(times)\n",
      "n_onsets = len(onsets)\n",
      "offsets = onsets + 1.\n",
      "block_spec = np.ones(n_onsets, dtype=([('start', float), ('end', float), ('type', int)]))\n",
      "block_spec['start'] = onsets\n",
      "block_spec['end'] = offsets\n",
      "print(block_spec)"
     ],
     "language": "python",
     "metadata": {},
     "outputs": [
      {
       "output_type": "stream",
       "stream": "stdout",
       "text": [
        "[(4.0, 5.0, 1) (6.0, 7.0, 1) (8.0, 9.0, 1) (10.0, 11.0, 1) (14.0, 15.0, 1)\n",
        " (16.0, 17.0, 1) (18.0, 19.0, 1) (20.0, 21.0, 1) (22.0, 23.0, 1)\n",
        " (24.0, 25.0, 1) (26.0, 27.0, 1) (28.0, 29.0, 1) (30.0, 31.0, 1)\n",
        " (32.0, 33.0, 1) (40.0, 41.0, 1) (48.0, 49.0, 1) (50.0, 51.0, 1)\n",
        " (60.0, 61.0, 1) (62.0, 63.0, 1) (64.0, 65.0, 1) (66.0, 67.0, 1)\n",
        " (68.0, 69.0, 1) (74.0, 75.0, 1) (76.0, 77.0, 1) (78.0, 79.0, 1)\n",
        " (82.0, 83.0, 1) (86.0, 87.0, 1) (90.0, 91.0, 1) (102.0, 103.0, 1)\n",
        " (106.0, 107.0, 1) (114.0, 115.0, 1) (118.0, 119.0, 1) (120.0, 121.0, 1)\n",
        " (122.0, 123.0, 1) (124.0, 125.0, 1) (126.0, 127.0, 1) (130.0, 131.0, 1)\n",
        " (132.0, 133.0, 1) (148.0, 149.0, 1) (158.0, 159.0, 1) (160.0, 161.0, 1)\n",
        " (166.0, 167.0, 1) (168.0, 169.0, 1) (172.0, 173.0, 1) (182.0, 183.0, 1)\n",
        " (184.0, 185.0, 1) (190.0, 191.0, 1) (192.0, 193.0, 1) (196.0, 197.0, 1)\n",
        " (204.0, 205.0, 1) (208.0, 209.0, 1) (210.0, 211.0, 1) (214.0, 215.0, 1)\n",
        " (216.0, 217.0, 1) (218.0, 219.0, 1) (222.0, 223.0, 1) (226.0, 227.0, 1)\n",
        " (230.0, 231.0, 1) (234.0, 235.0, 1) (236.0, 237.0, 1) (238.0, 239.0, 1)]\n"
       ]
      }
     ],
     "prompt_number": 8
    },
    {
     "cell_type": "code",
     "collapsed": false,
     "input": [
      "def random_design(times, duration=1):\n",
      "    onsets = random_onsets(times)\n",
      "    offsets = onsets + duration\n",
      "    n_onsets = len(onsets)\n",
      "    block_spec = np.ones(n_onsets, dtype=([('start', float), ('end', float), ('type', int)]))\n",
      "    block_spec['start'] = onsets\n",
      "    block_spec['end'] = offsets\n",
      "    return block_design(block_spec, times, hrfs=[hrf.spm])"
     ],
     "language": "python",
     "metadata": {},
     "outputs": [],
     "prompt_number": 9
    },
    {
     "cell_type": "heading",
     "level": 3,
     "metadata": {},
     "source": [
      "An example of output of random_design"
     ]
    },
    {
     "cell_type": "code",
     "collapsed": false,
     "input": [
      "X, contrasts = random_design(times)\n",
      "plt.plot(times, X)\n",
      "print(contrasts)\n",
      "print(X.shape)"
     ],
     "language": "python",
     "metadata": {},
     "outputs": [
      {
       "output_type": "stream",
       "stream": "stdout",
       "text": [
        "{'constant_0': array(1.0000000000000007)}\n",
        "(120,)\n"
       ]
      },
      {
       "metadata": {},
       "output_type": "display_data",
       "png": "[encoded data removed]",
       "text": [
        "<matplotlib.figure.Figure at 0x5278850>"
       ]
      }
     ],
     "prompt_number": 10
    },
    {
     "cell_type": "code",
     "collapsed": false,
     "input": [
      "contrasts"
     ],
     "language": "python",
     "metadata": {},
     "outputs": [
      {
       "metadata": {},
       "output_type": "pyout",
       "prompt_number": 11,
       "text": [
        "{'constant_0': array(1.0000000000000007)}"
       ]
      }
     ],
     "prompt_number": 11
    },
    {
     "cell_type": "code",
     "collapsed": false,
     "input": [
      "spline = (natural_spline(times, order=3))\n",
      "print(spline.shape)"
     ],
     "language": "python",
     "metadata": {},
     "outputs": [
      {
       "output_type": "stream",
       "stream": "stdout",
       "text": [
        "(120, 4)\n"
       ]
      }
     ],
     "prompt_number": 23
    },
    {
     "cell_type": "code",
     "collapsed": false,
     "input": [
      "best_design = None\n",
      "best_efficiency = 0\n",
      "n_iters = 1000\n",
      "efficiencies = np.zeros(n_iters)\n",
      "splines = natural_spline(times)\n",
      "for i in range(n_iters):\n",
      "    X_ev, contrasts_ev = random_design(times)\n",
      "    X, contrasts = stack2designs(X_ev, splines, contrasts_ev)\n",
      "    C = contrasts['constant_0'][:, None]\n",
      "    efficiency = 1. / C.T.dot(npl.pinv(X.T.dot(X)).dot(C))\n",
      "    efficiencies[i] = efficiency\n",
      "    if efficiency > best_efficiency:\n",
      "        best_efficiency = efficiency\n",
      "        best_design = X"
     ],
     "language": "python",
     "metadata": {},
     "outputs": [],
     "prompt_number": 12
    },
    {
     "cell_type": "code",
     "collapsed": false,
     "input": [
      "stack2designs?"
     ],
     "language": "python",
     "metadata": {},
     "outputs": [],
     "prompt_number": 13
    },
    {
     "cell_type": "code",
     "collapsed": false,
     "input": [
      "natural_spline?"
     ],
     "language": "python",
     "metadata": {},
     "outputs": [],
     "prompt_number": 14
    },
    {
     "cell_type": "code",
     "collapsed": false,
     "input": [
      "import scipy.stats as sst\n",
      "m = sst.scoreatpercentile(efficiencies, 95)\n",
      "_ = plt.hist(efficiencies[efficiencies>m], bins=100)"
     ],
     "language": "python",
     "metadata": {},
     "outputs": [
      {
       "metadata": {},
       "output_type": "display_data",
       "png": "[encoded data removed]",
       "text": [
        "<matplotlib.figure.Figure at 0x5124850>"
       ]
      }
     ],
     "prompt_number": 15
    },
    {
     "cell_type": "code",
     "collapsed": false,
     "input": [
      "efficiency"
     ],
     "language": "python",
     "metadata": {},
     "outputs": [
      {
       "metadata": {},
       "output_type": "pyout",
       "prompt_number": 16,
       "text": [
        "array([[ 109.45761821]])"
       ]
      }
     ],
     "prompt_number": 16
    },
    {
     "cell_type": "code",
     "collapsed": false,
     "input": [
      "best_efficiency"
     ],
     "language": "python",
     "metadata": {},
     "outputs": [
      {
       "metadata": {},
       "output_type": "pyout",
       "prompt_number": 17,
       "text": [
        "array([[ 227914.54247173]])"
       ]
      }
     ],
     "prompt_number": 17
    },
    {
     "cell_type": "code",
     "collapsed": false,
     "input": [
      "plt.plot(best_design[:,0])"
     ],
     "language": "python",
     "metadata": {},
     "outputs": [
      {
       "metadata": {},
       "output_type": "pyout",
       "prompt_number": 18,
       "text": [
        "[<matplotlib.lines.Line2D at 0x22cbccd0>]"
       ]
      },
      {
       "metadata": {},
       "output_type": "display_data",
       "png": "[encoded data removed]",
       "text": [
        "<matplotlib.figure.Figure at 0x22af4110>"
       ]
      }
     ],
     "prompt_number": 18
    },
    {
     "cell_type": "code",
     "collapsed": false,
     "input": [],
     "language": "python",
     "metadata": {},
     "outputs": []
    }
   ],
   "metadata": {}
  }
 ]
}