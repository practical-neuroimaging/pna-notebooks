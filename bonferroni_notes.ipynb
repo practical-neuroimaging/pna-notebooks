{
 "metadata": {
  "name": "",
  "signature": "sha256:2960b9031acbc6dd2744a53262ab409b7a3d3d9f2c49b0e3f1ac088d93a44dd4"
 },
 "nbformat": 3,
 "nbformat_minor": 0,
 "worksheets": [
  {
   "cells": [
    {
     "cell_type": "heading",
     "level": 1,
     "metadata": {},
     "source": [
      "Notes on the Bonferroni threshold"
     ]
    },
    {
     "cell_type": "markdown",
     "metadata": {},
     "source": [
      "The Bonferroni threshold is a family-wise error threshold.  That is, it treats a set of tests as one *family*, and the threshold is designed to control the probability of detecting *any* positive tests in the family (set) of tests, if the null hypothesis is true."
     ]
    },
    {
     "cell_type": "code",
     "collapsed": false,
     "input": [
      "# Some standard setup\n",
      "from __future__ import print_function, division\n",
      "import numpy as np"
     ],
     "language": "python",
     "metadata": {},
     "outputs": [],
     "prompt_number": 1
    },
    {
     "cell_type": "markdown",
     "metadata": {},
     "source": [
      "## Family-wise error"
     ]
    },
    {
     "cell_type": "markdown",
     "metadata": {},
     "source": [
      "The Bonferroni correction uses a result from probability theory to estimate the probability of finding *any* p value below a threshold $\\theta$, given a set (family) of $n$ p values."
     ]
    },
    {
     "cell_type": "markdown",
     "metadata": {},
     "source": [
      "When we have found a threshold $\\theta$ that gives a probability $\\le \\alpha$ that *any* p value will be $\\lt \\theta$, then the threshold $\\theta$ can be said to control the *family-wise error rate* at level $\\alpha$."
     ]
    },
    {
     "cell_type": "markdown",
     "metadata": {},
     "source": [
      "## Not the Bonferroni correction"
     ]
    },
    {
     "cell_type": "markdown",
     "metadata": {},
     "source": [
      "The inequality used for the Bonferroni is harder to explain than a simpler but related correction, called the \u0160id\u00e1k correction.\n",
      "\n",
      "We will start with that, and then move on to the Bonferroni correction."
     ]
    },
    {
     "cell_type": "markdown",
     "metadata": {},
     "source": [
      "The probability that all $n$ tests are *above* p value threshold $\\theta$, *assuming tests are independent*:\n",
      "\n",
      "$$\n",
      "(1 - \\theta)^n\n",
      "$$"
     ]
    },
    {
     "cell_type": "markdown",
     "metadata": {},
     "source": [
      "Chance that one or more p values are $\\le \\theta$:\n",
      "\n",
      "$$\n",
      "1 - (1 - \\theta)^n\n",
      "$$"
     ]
    },
    {
     "cell_type": "markdown",
     "metadata": {},
     "source": [
      "We want a uncorrected p value threshold $\\theta$ such that the expression above equals some desired family-wise error (FWE) rate $\\alpha_{fwe}$.  For example we might want a p value threshold $\\theta$ such that there is probability ($\\alpha_{fwe}$) of 0.05 that there is one or more test with $p \\le \\theta$ in a family of $n$ tests, on the null hypothesis:\n",
      "\n",
      "$$\n",
      "\\alpha_{fwe} = 1 - (1 - \\theta)^n\n",
      "$$"
     ]
    },
    {
     "cell_type": "markdown",
     "metadata": {},
     "source": [
      "Solve for $\\theta$:\n",
      "\n",
      "$$\n",
      "\\theta = 1 - (1 - \\alpha_{fwe})^{1 / n}\n",
      "$$"
     ]
    },
    {
     "cell_type": "markdown",
     "metadata": {},
     "source": [
      "## The Bonferroni correction"
     ]
    },
    {
     "cell_type": "markdown",
     "metadata": {},
     "source": [
      "The Bonferroni correction uses a result from probability theory, called Boole's inequality.  The result is by George Boole, of *boolean* fame.  Boole's inequality applies to the situation where we have a set of events $A_1, A_2, A_3, ... $, each with some probability of occurring ${\\mathbb P}(A_1), {\\mathbb P}(A_2), {\\mathbb P}(A_3) ... $.  The inequality states that the probability of one or more of these events occurring is no greater than the sum of the probabilities of the individual events:\n",
      "\n",
      "$$\n",
      "{\\mathbb P}\\biggl(\\bigcup_{i} A_i\\biggr) \\le \\sum_i {\\mathbb P}(A_i).\n",
      "$$"
     ]
    },
    {
     "cell_type": "markdown",
     "metadata": {},
     "source": [
      "${\\mathbb P}\\biggl(\\bigcup_{i} A_i\\biggr)$ is the probability of the *union* of all events, and therefore the probability of one or more event occurring."
     ]
    },
    {
     "cell_type": "markdown",
     "metadata": {},
     "source": [
      "In our case we have $n$ tests (the family of tests).  Each test that we label as significant is an event.  Therefore the sum of the probabilities of all possible events is $n\\theta$.  ${\\mathbb P}\\biggl(\\bigcup_{i} A_i\\biggr)$ is our probability of family-wise error $\\alpha_{fwe}$.   To get a threshold $\\theta$ that controls family-wise error at $\\alpha$, we need:\n",
      "\n",
      "$$\n",
      "\\frac{\\alpha_{fwe}}{n} \\le \\theta\n",
      "$$"
     ]
    },
    {
     "cell_type": "markdown",
     "metadata": {},
     "source": [
      "The Bonferroni correction does not assume the tests are independent.  The Bonferroni $\\theta_{Bonferroni} = \\alpha_{fwe} \\space / \\space n$ is always smaller (more conservative) than the \u0160id\u00e1k correction $\\theta_{\u0160id\u00e1k}$ for $n \\ge 1$, but it is close:"
     ]
    },
    {
     "cell_type": "code",
     "collapsed": false,
     "input": [
      "sidak_thresh = lambda a, n: 1 - (1 - a) ** (1 / n) # the \u0160id\u00e1k correction\n",
      "bonferroni_thresh = lambda a, n: a / n # the Bonferroni correction"
     ],
     "language": "python",
     "metadata": {},
     "outputs": [],
     "prompt_number": 2
    },
    {
     "cell_type": "code",
     "collapsed": false,
     "input": [
      "n_tests = np.arange(1, 11)\n",
      "# The exact threshold for independent p values\n",
      "sidak_thresh(0.05, n_tests)"
     ],
     "language": "python",
     "metadata": {},
     "outputs": [
      {
       "metadata": {},
       "output_type": "pyout",
       "prompt_number": 3,
       "text": [
        "array([ 0.05      ,  0.02532057,  0.01695243,  0.01274146,  0.01020622,\n",
        "        0.00851244,  0.00730083,  0.00639115,  0.00568304,  0.0051162 ])"
       ]
      }
     ],
     "prompt_number": 3
    },
    {
     "cell_type": "code",
     "collapsed": false,
     "input": [
      "bonferroni_thresh(0.05, n_tests)"
     ],
     "language": "python",
     "metadata": {},
     "outputs": [
      {
       "metadata": {},
       "output_type": "pyout",
       "prompt_number": 4,
       "text": [
        "array([ 0.05      ,  0.025     ,  0.01666667,  0.0125    ,  0.01      ,\n",
        "        0.00833333,  0.00714286,  0.00625   ,  0.00555556,  0.005     ])"
       ]
      }
     ],
     "prompt_number": 4
    }
   ],
   "metadata": {}
  }
 ]
}