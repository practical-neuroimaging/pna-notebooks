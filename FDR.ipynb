{
 "metadata": {
  "name": "",
  "signature": "sha256:945d8418bcc971d99c631cb77619afddcd7f50dc53b103c5edb0d3391c603a55"
 },
 "nbformat": 3,
 "nbformat_minor": 0,
 "worksheets": [
  {
   "cells": [
    {
     "cell_type": "heading",
     "level": 1,
     "metadata": {},
     "source": [
      "Thresholding with false discovery rate"
     ]
    },
    {
     "cell_type": "code",
     "collapsed": false,
     "input": [
      "# Our normal warm up\n",
      "from __future__ import print_function, division\n",
      "%matplotlib inline\n",
      "import numpy as np\n",
      "import matplotlib.pyplot as plt"
     ],
     "language": "python",
     "metadata": {},
     "outputs": [],
     "prompt_number": 1
    },
    {
     "cell_type": "markdown",
     "metadata": {},
     "source": [
      "**Jean-Baptiste Poline and Matthew Brett**"
     ]
    },
    {
     "cell_type": "markdown",
     "metadata": {},
     "source": [
      "The false discovery rate is a different *type* of correction than family-wise correction. Instead of controlling for the risk of *any tests* falsely being declared significant under the null hypothesis, FDR will control the *number of tests falsely declared significant as a proportion of the number of all tests declared significant*."
     ]
    },
    {
     "cell_type": "markdown",
     "metadata": {},
     "source": [
      "A basic idea on how the FDR works is the following.\n",
      "\n",
      "We have got a large number of p values from a set of individual tests.  These might be p values from tests on a set of brain voxels.\n",
      "\n",
      "We are trying to a find a p value threshold $\\theta$ to do a reasonable job of distinguishing true positive tests from true negatives.  p values that are less than or equal to $\\theta$ are *detections* and $\\theta$ is a *detection threshold*. \n",
      "\n",
      "We want to choose a detection threshold that will only allow a small number of false positive detections.\n",
      "\n",
      "A *detection* can also be called a *discovery*; hence false discovery rate.\n",
      "\n",
      "For the FDR, we will try to find a p value within the family of tests (the set of p values), that we can use as a detection threshold.\n",
      "\n",
      "Let's look at the p value for a particular test. Let's say there are $N$ tests, indexed with $i \\in 1 .. N$. We look at a test $i$, and consider using p value from this test as a detection threshold; $\\theta = p(i)$. The expected number of false positives (FP) in N tests at this detection threshold would be:\n",
      "\n",
      "$$\n",
      "E(FP) = N p(i)\n",
      "$$\n",
      "\n",
      "For example, if we had 100 tests, and the particular p value $p(i)$ was 0.1, then the expected number of false positive detections, thresholding at 0.1, is 0.1 * 100 = 10."
     ]
    },
    {
     "cell_type": "markdown",
     "metadata": {},
     "source": [
      "Let's take some data from a random normal distribution to illustrate:"
     ]
    },
    {
     "cell_type": "code",
     "collapsed": false,
     "input": [
      "np.random.seed(42) # so we always get the same random numbers\n",
      "N = 100\n",
      "z_values = np.random.normal(size=N)"
     ],
     "language": "python",
     "metadata": {},
     "outputs": [],
     "prompt_number": 2
    },
    {
     "cell_type": "markdown",
     "metadata": {},
     "source": [
      "Turn the Z values into p values:"
     ]
    },
    {
     "cell_type": "code",
     "collapsed": false,
     "input": [
      "import scipy.stats as sst\n",
      "normal_distribution = sst.norm(loc=0,scale=1.) #loc is the mean, scale is the variance.\n",
      "# The normal CDF\n",
      "p_values = normal_distribution.cdf(z_values)"
     ],
     "language": "python",
     "metadata": {},
     "outputs": [],
     "prompt_number": 3
    },
    {
     "cell_type": "markdown",
     "metadata": {},
     "source": [
      "To make it easier to show, we sort the p values from smallest to largest:"
     ]
    },
    {
     "cell_type": "code",
     "collapsed": false,
     "input": [
      "p_values = np.sort(p_values)\n",
      "i = np.arange(1, N+1) # the 1-based i index of the p values, as in p(i)\n",
      "plt.plot(i, p_values, '.')\n",
      "plt.xlabel('$i$')\n",
      "plt.ylabel('p value')"
     ],
     "language": "python",
     "metadata": {},
     "outputs": [
      {
       "metadata": {},
       "output_type": "pyout",
       "prompt_number": 4,
       "text": [
        "<matplotlib.text.Text at 0x1078bf650>"
       ]
      },
      {
       "metadata": {},
       "output_type": "display_data",
       "png": "[encoded data removed]",
       "text": [
        "<matplotlib.figure.Figure at 0x107723a50>"
       ]
      }
     ],
     "prompt_number": 4
    },
    {
     "cell_type": "markdown",
     "metadata": {},
     "source": [
      "Notice the (more or less) straight line of p value against $i$ index in this case, where there is no signal in the random noise."
     ]
    },
    {
     "cell_type": "markdown",
     "metadata": {},
     "source": [
      "We want to find a p value threshold $p(i)$ where there is only a small *proportion* of false positives among the detections. For example, we might accept a threshold such that 5% of all detections (discoveries) are likely to be false positives.  If $d$ is the number of discoveries at threshold $\\theta$, and $q$ is the proportion of false positives we will accept (e.g. 0.05), then we want a threshold $\\theta$ such that $E(FP) / d < q$ where $E(x)$ is the expectation of $x$, here the number of FP I would get _on average_ if I was to repeat my experiment many times.\n",
      "\n",
      "So - what is $d$ in the plot above?  Now that we have ordered the p values, for any index $i$, if we threshold at $\\theta \\le p(i)$ we will have $i$ detections ($d = i$).  Therefore we want to find the largest $p(i)$ such that $E(FP) / i < q$.  We know $E(FP) = N p(i)$ so we want the largest $p(i)$ such that:\n",
      "\n",
      "$$\n",
      "   N p(i) / i < q \\implies p(i) < q i / N\n",
      "$$\n",
      "\n",
      "Let's take $q$ (the proportion of false discoveries = detections) as 0.05.  We plot $q i / N$ (in red) on the same graph as $p(i)$ (in blue):"
     ]
    },
    {
     "cell_type": "code",
     "collapsed": false,
     "input": [
      "q = 0.05\n",
      "plt.plot(i, p_values, 'b.', label='$p(i)$')\n",
      "plt.plot(i, q * i / N, 'r', label='$q i / N$')\n",
      "plt.xlabel('$i$')\n",
      "plt.ylabel('$p$')\n",
      "plt.legend()"
     ],
     "language": "python",
     "metadata": {},
     "outputs": [
      {
       "metadata": {},
       "output_type": "pyout",
       "prompt_number": 5,
       "text": [
        "<matplotlib.legend.Legend at 0x107b7bf50>"
       ]
      },
      {
       "metadata": {},
       "output_type": "display_data",
       "png": "[encoded data removed]",
       "text": [
        "<matplotlib.figure.Figure at 0x1079a3a10>"
       ]
      }
     ],
     "prompt_number": 5
    },
    {
     "cell_type": "markdown",
     "metadata": {},
     "source": [
      "Our job is to look for the largest $p(i)$ value (blue dot) that is still underneath $q i / N$ (the red line)."
     ]
    },
    {
     "cell_type": "markdown",
     "metadata": {},
     "source": [
      "The red line $q i / N$ is the acceptable number of false positives $q i$ as a proportion of all the tests $N$. Further to the right on the red line corresponds to a larger acceptable number of false positives.  For example, for $i = 1$, the acceptable number of false positives $q * i$ is $0.05 * 1$, but at $i = 50$, the acceptable number of expected false positives $q * i$ is $0.05 * 50 = 2.5$."
     ]
    },
    {
     "cell_type": "markdown",
     "metadata": {},
     "source": [
      "Notice that, if only the first p value passes threshold, then $p(1) < q \\space 1 \\space / \\space N$. So, if $q = 0.05$, $p(1) < 0.05 / N$.  This is the Bonferroni correction for $N$ tests."
     ]
    },
    {
     "cell_type": "markdown",
     "metadata": {},
     "source": [
      "The FDR becomes more interesting when there is signal in the noise.  In this case there will be p values that are smaller than expected on the null hypothesis.  This causes the p value line to start below the diagonal on the ordered plot, because of the high density of low p values."
     ]
    },
    {
     "cell_type": "code",
     "collapsed": false,
     "input": [
      "N_signal = 20\n",
      "N_noise = N - N_signal\n",
      "noise_z_values = np.random.normal(size=N_noise)\n",
      "# Add some signal with very low z scores / p values\n",
      "signal_z_values = np.random.normal(loc=-2.5, size=N_signal)\n",
      "mixed_z_values = np.sort(np.concatenate((noise_z_values, signal_z_values)))\n",
      "mixed_p_values = normal_distribution.cdf(mixed_z_values)\n",
      "plt.plot(i, mixed_p_values, 'b.', label='$p(i)$')\n",
      "plt.plot(i, q * i / N, 'r', label='$q i / N$')\n",
      "plt.xlabel('$i$')\n",
      "plt.ylabel('$p$')\n",
      "plt.legend()"
     ],
     "language": "python",
     "metadata": {},
     "outputs": [
      {
       "metadata": {},
       "output_type": "pyout",
       "prompt_number": 6,
       "text": [
        "<matplotlib.legend.Legend at 0x107dc3490>"
       ]
      },
      {
       "metadata": {},
       "output_type": "display_data",
       "png": "[encoded data removed]",
       "text": [
        "<matplotlib.figure.Figure at 0x107b9e610>"
       ]
      }
     ],
     "prompt_number": 6
    },
    {
     "cell_type": "markdown",
     "metadata": {},
     "source": [
      "The interesting part is the beginning of the graph, where the blue p values stay below the red line:"
     ]
    },
    {
     "cell_type": "code",
     "collapsed": false,
     "input": [
      "first_i = i[:30]\n",
      "plt.plot(first_i, mixed_p_values[:30], 'b.', label='$p(i)$')\n",
      "plt.plot(first_i, q * first_i / N, 'r', label='$q i / N$')\n",
      "plt.xlabel('$i$')\n",
      "plt.ylabel('$p$')\n",
      "plt.legend()"
     ],
     "language": "python",
     "metadata": {},
     "outputs": [
      {
       "metadata": {},
       "output_type": "pyout",
       "prompt_number": 7,
       "text": [
        "<matplotlib.legend.Legend at 0x108013390>"
       ]
      },
      {
       "metadata": {},
       "output_type": "display_data",
       "png": "[encoded data removed]",
       "text": [
        "<matplotlib.figure.Figure at 0x107bbd6d0>"
       ]
      }
     ],
     "prompt_number": 7
    },
    {
     "cell_type": "markdown",
     "metadata": {},
     "source": [
      "We are looking for the largest $p(i) < qi/N$, which corresponds to the last blue point below the red line."
     ]
    },
    {
     "cell_type": "code",
     "collapsed": false,
     "input": [
      "below = mixed_p_values < (q * i / N) # True where p(i)<qi/N\n",
      "max_below = np.max(np.where(below)[0]) # Max Python array index where p(i)<qi/N\n",
      "print('p_i:', mixed_p_values[max_below])\n",
      "print('i:', max_below + 1) # Python indices 0-based, we want 1-based"
     ],
     "language": "python",
     "metadata": {},
     "outputs": [
      {
       "output_type": "stream",
       "stream": "stdout",
       "text": [
        "p_i: 0.00323007466783\n",
        "i: 9\n"
       ]
      }
     ],
     "prompt_number": 8
    },
    {
     "cell_type": "markdown",
     "metadata": {},
     "source": [
      "The Bonferroni threshold is:"
     ]
    },
    {
     "cell_type": "code",
     "collapsed": false,
     "input": [
      "0.05 / N"
     ],
     "language": "python",
     "metadata": {},
     "outputs": [
      {
       "metadata": {},
       "output_type": "pyout",
       "prompt_number": 9,
       "text": [
        "0.0005"
       ]
      }
     ],
     "prompt_number": 9
    },
    {
     "cell_type": "markdown",
     "metadata": {},
     "source": [
      "In this case, where there is signal in the noise, the FDR threshold *adapts* to the presence of the signal, by taking into account that some values have small enough p values that they can be assumed to be signal, so that there are fewer noise comparisons to correct for, and the threshold is correspondingly less stringent."
     ]
    },
    {
     "cell_type": "markdown",
     "metadata": {},
     "source": [
      "As the FDR threshold becomes less stringent, the number of detections increases, and the expected number of false positive detections increases, because the FDR controls the *proportion* of false positives in the detections. In our case, the expected number of false positives in the detections is $q i = 0.05 * 9 = 0.45$.  In other words, at this threshold, we have a 45% chance of seeing a false positive among the detected positive tests."
     ]
    },
    {
     "cell_type": "markdown",
     "metadata": {},
     "source": [
      "So, there are a number of interesting properties of the FDR  - and some not so interesting if you want to do brain imaging.\n",
      "\n",
      "* In the case of no signal at all, the FDR threshold will be the Bonferroni threshold\n",
      "* Under some conditions (see Benjamini and hochberg, JRSS-B 1995), the FDR threshold can be applied to correlated data\n",
      "* FDR is an \"adaptive\" threshold\n",
      "\n",
      "Not so \"interesting\"\n",
      "\n",
      "* FDR can be very variable\n",
      "* When there are lots of true positives, and many detections, the number of false positive detections increases.  This can make FDR detections more difficult to interpret."
     ]
    }
   ],
   "metadata": {}
  }
 ]
}