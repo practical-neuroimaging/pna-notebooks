{
 "metadata": {
  "name": "",
  "signature": "sha256:0114d86d1c2295b7a691d99f998361810e41f3bfa658944fcff3beebec6a2e72"
 },
 "nbformat": 3,
 "nbformat_minor": 0,
 "worksheets": [
  {
   "cells": [
    {
     "cell_type": "markdown",
     "metadata": {},
     "source": [
      "# In which we explore the problems of correlated regressors"
     ]
    },
    {
     "cell_type": "markdown",
     "metadata": {},
     "source": [
      "By JB Poline and Matthew Brett."
     ]
    },
    {
     "cell_type": "code",
     "collapsed": false,
     "input": [
      "# Compatibility with Python 3\n",
      "from __future__ import print_function  # print('me') instead of print 'me'\n",
      "from __future__ import division  # 1/2 == 0.5, not 0"
     ],
     "language": "python",
     "metadata": {},
     "outputs": [],
     "prompt_number": 1
    },
    {
     "cell_type": "code",
     "collapsed": false,
     "input": [
      "# Array and plotting libraries\n",
      "import numpy as np\n",
      "import numpy.linalg as npl\n",
      "import matplotlib.pyplot as plt"
     ],
     "language": "python",
     "metadata": {},
     "outputs": [],
     "prompt_number": 2
    },
    {
     "cell_type": "code",
     "collapsed": false,
     "input": [
      "# Display plots inside the notebook\n",
      "%matplotlib inline"
     ],
     "language": "python",
     "metadata": {},
     "outputs": [],
     "prompt_number": 3
    },
    {
     "cell_type": "code",
     "collapsed": false,
     "input": [
      "# Make numpy print 4 significant digits for prettiness\n",
      "np.set_printoptions(precision=4, suppress=True)"
     ],
     "language": "python",
     "metadata": {},
     "outputs": [],
     "prompt_number": 4
    },
    {
     "cell_type": "markdown",
     "metadata": {},
     "source": [
      "Imagine we have a TR (image) every 2 seconds, for 30 seconds.  Here are the times of the TR onsets, in seconds:"
     ]
    },
    {
     "cell_type": "code",
     "collapsed": false,
     "input": [
      "times = np.arange(0, 30, 2)\n",
      "times"
     ],
     "language": "python",
     "metadata": {},
     "outputs": [
      {
       "metadata": {},
       "output_type": "pyout",
       "prompt_number": 5,
       "text": [
        "array([ 0,  2,  4,  6,  8, 10, 12, 14, 16, 18, 20, 22, 24, 26, 28])"
       ]
      }
     ],
     "prompt_number": 5
    },
    {
     "cell_type": "markdown",
     "metadata": {},
     "source": [
      "Now we make a function returning an HRF shape for an input vector of times:"
     ]
    },
    {
     "cell_type": "code",
     "collapsed": false,
     "input": [
      "# Gamma distribution from scipy\n",
      "from scipy.stats import gamma\n",
      "\n",
      "def spm_hrf(times):\n",
      "    \"\"\" Return values for SPM-like HRF at given times \"\"\"\n",
      "    # Make output vector\n",
      "    values = np.zeros(len(times))\n",
      "    # Only evaluate gamma above 0 (undefined at <= 0)\n",
      "    valid_times = times[times > 0]\n",
      "    # Gamma pdf for the peak\n",
      "    peak_values = gamma.pdf(valid_times, 6)\n",
      "    # Gamma pdf for the undershoot\n",
      "    undershoot_values = gamma.pdf(valid_times, 12)\n",
      "    # Combine them, put back into values vector\n",
      "    values[times > 0] = peak_values - 0.35 * undershoot_values\n",
      "    # Scale area under curve to 1\n",
      "    return values / np.sum(values)"
     ],
     "language": "python",
     "metadata": {},
     "outputs": [],
     "prompt_number": 6
    },
    {
     "cell_type": "markdown",
     "metadata": {},
     "source": [
      "Sample the HRF at the given times (to simulate an event starting at time 0), and at times - 2 (simulating an event starting at time 2):"
     ]
    },
    {
     "cell_type": "code",
     "collapsed": false,
     "input": [
      "hrf1 = spm_hrf(times)\n",
      "hrf2 = spm_hrf(times - 2) # An HRF with 2 seconds (one TR) delay\n",
      "hrf1 = (hrf1 - hrf1.mean()) # Rescale and mean center\n",
      "hrf2 = (hrf2 - hrf2.mean())"
     ],
     "language": "python",
     "metadata": {},
     "outputs": [],
     "prompt_number": 7
    },
    {
     "cell_type": "code",
     "collapsed": false,
     "input": [
      "plt.plot(times, hrf1)\n",
      "plt.plot(times, hrf2)"
     ],
     "language": "python",
     "metadata": {},
     "outputs": [
      {
       "metadata": {},
       "output_type": "pyout",
       "prompt_number": 8,
       "text": [
        "[<matplotlib.lines.Line2D at 0x10636ab50>]"
       ]
      },
      {
       "metadata": {},
       "output_type": "display_data",
       "png": "[encoded data removed]",
       "text": [
        "<matplotlib.figure.Figure at 0x10636ab90>"
       ]
      }
     ],
     "prompt_number": 8
    },
    {
     "cell_type": "markdown",
     "metadata": {},
     "source": [
      "The Pearson correlation coefficient between the HRFs for the two events:"
     ]
    },
    {
     "cell_type": "code",
     "collapsed": false,
     "input": [
      "np.corrcoef(hrf1, hrf2)"
     ],
     "language": "python",
     "metadata": {},
     "outputs": [
      {
       "metadata": {},
       "output_type": "pyout",
       "prompt_number": 9,
       "text": [
        "array([[ 1.    ,  0.7023],\n",
        "       [ 0.7023,  1.    ]])"
       ]
      }
     ],
     "prompt_number": 9
    },
    {
     "cell_type": "markdown",
     "metadata": {},
     "source": [
      "Make a signal that comes from the combination of the two HRFs:"
     ]
    },
    {
     "cell_type": "code",
     "collapsed": false,
     "input": [
      "signal = hrf1 + hrf2\n",
      "plt.plot(hrf1, label='hrf1')\n",
      "plt.plot(hrf2, label='hrf2')\n",
      "plt.plot(signal, label='signal (combined hrfs)')\n",
      "plt.legend()"
     ],
     "language": "python",
     "metadata": {},
     "outputs": [
      {
       "metadata": {},
       "output_type": "pyout",
       "prompt_number": 10,
       "text": [
        "<matplotlib.legend.Legend at 0x1081b7bd0>"
       ]
      },
      {
       "metadata": {},
       "output_type": "display_data",
       "png": "[encoded data removed]",
       "text": [
        "<matplotlib.figure.Figure at 0x1080cb590>"
       ]
      }
     ],
     "prompt_number": 10
    },
    {
     "cell_type": "markdown",
     "metadata": {},
     "source": [
      "We're going to make our simulated data from taking the signal (the two HRFs) and adding some random noise:"
     ]
    },
    {
     "cell_type": "code",
     "collapsed": false,
     "input": [
      "noise = np.random.normal(size=times.shape)\n",
      "Y = signal + noise\n",
      "plt.plot(times, signal)\n",
      "plt.plot(times, Y, '+')"
     ],
     "language": "python",
     "metadata": {},
     "outputs": [
      {
       "metadata": {},
       "output_type": "pyout",
       "prompt_number": 11,
       "text": [
        "[<matplotlib.lines.Line2D at 0x108211dd0>]"
       ]
      },
      {
       "metadata": {},
       "output_type": "display_data",
       "png": "[encoded data removed]",
       "text": [
        "<matplotlib.figure.Figure at 0x108211f90>"
       ]
      }
     ],
     "prompt_number": 11
    },
    {
     "cell_type": "markdown",
     "metadata": {},
     "source": [
      "We are going to model this simulated signal in several different ways.  First, we make a model that only has the first HRF as a regressor (plus a column of ones to model the mean of the data):"
     ]
    },
    {
     "cell_type": "code",
     "collapsed": false,
     "input": [
      "X_one = np.vstack((hrf1, np.ones_like(hrf1))).T\n",
      "plt.imshow(X_one, interpolation='nearest', cmap='gray')\n",
      "plt.title('Model with first HRF regressor only')"
     ],
     "language": "python",
     "metadata": {},
     "outputs": [
      {
       "metadata": {},
       "output_type": "pyout",
       "prompt_number": 12,
       "text": [
        "<matplotlib.text.Text at 0x1083f5b90>"
       ]
      },
      {
       "metadata": {},
       "output_type": "display_data",
       "png": "[encoded data removed]",
       "text": [
        "<matplotlib.figure.Figure at 0x108340050>"
       ]
      }
     ],
     "prompt_number": 12
    },
    {
     "cell_type": "markdown",
     "metadata": {},
     "source": [
      "Next we make a model where we also include the second HRF as a regressor:"
     ]
    },
    {
     "cell_type": "code",
     "collapsed": false,
     "input": [
      "X_both = np.vstack((hrf1, hrf2, np.ones_like(hrf1))).T\n",
      "plt.imshow(X_both, interpolation='nearest', cmap='gray')\n",
      "plt.title('Model with both HRF regressors')"
     ],
     "language": "python",
     "metadata": {},
     "outputs": [
      {
       "metadata": {},
       "output_type": "pyout",
       "prompt_number": 13,
       "text": [
        "<matplotlib.text.Text at 0x10849ae50>"
       ]
      },
      {
       "metadata": {},
       "output_type": "display_data",
       "png": "[encoded data removed]",
       "text": [
        "<matplotlib.figure.Figure at 0x108463f90>"
       ]
      }
     ],
     "prompt_number": 13
    },
    {
     "cell_type": "markdown",
     "metadata": {},
     "source": [
      "Now we make a very large number of data vectors, each with the signal (both HRFs) plus a different vector of noise."
     ]
    },
    {
     "cell_type": "code",
     "collapsed": false,
     "input": [
      "T = len(times)\n",
      "iters = 100000\n",
      "# Make 100000 Y vectors (new noise for each colum)\n",
      "noise_vectors = np.random.normal(size=(T, iters))\n",
      "# add signal to make data vectors\n",
      "Ys = noise_vectors + signal[:, np.newaxis]\n",
      "Ys.shape"
     ],
     "language": "python",
     "metadata": {},
     "outputs": [
      {
       "metadata": {},
       "output_type": "pyout",
       "prompt_number": 14,
       "text": [
        "(15, 100000)"
       ]
      }
     ],
     "prompt_number": 14
    },
    {
     "cell_type": "markdown",
     "metadata": {},
     "source": [
      "We first fit the model with only the first HRF regressor to every (signal + noise) sample vector."
     ]
    },
    {
     "cell_type": "code",
     "collapsed": false,
     "input": [
      "# Fit X_one to signals + noise\n",
      "B_ones = npl.pinv(X_one).dot(Ys)"
     ],
     "language": "python",
     "metadata": {},
     "outputs": [],
     "prompt_number": 15
    },
    {
     "cell_type": "markdown",
     "metadata": {},
     "source": [
      "Next fit the model with both HRFs as regressors:"
     ]
    },
    {
     "cell_type": "code",
     "collapsed": false,
     "input": [
      "# Fit X_both to signals + noise\n",
      "B_boths = npl.pinv(X_both).dot(Ys)"
     ],
     "language": "python",
     "metadata": {},
     "outputs": [],
     "prompt_number": 16
    },
    {
     "cell_type": "markdown",
     "metadata": {},
     "source": [
      "Remember that the students-t statistic is:\n",
      "\n",
      "$$\n",
      "t = \\frac{c^T \\hat\\beta}{\\sqrt{\\mathrm{var}(c^T \\hat\\beta)}}\n",
      "$$\n",
      "\n",
      "which works out to:\n",
      "\n",
      "$$\n",
      "t = \\frac{c^T \\hat\\beta}{\\sqrt{\\hat{\\sigma}^2 c^T (X^T X)^+ c}}\n",
      "$$\n",
      "\n",
      "where $\\hat{\\sigma}^2$ is our estimate of variance in the residuals, and $(X^T X)^+$ is the [pseudo-inverse](https://en.wikipedia.org/wiki/Moore%E2%80%93Penrose_pseudoinverse) of $X^T X$."
     ]
    },
    {
     "cell_type": "markdown",
     "metadata": {},
     "source": [
      "That's the theory.  So, what is the distribution of the estimates we get for the first beta, in the single-HRF model?"
     ]
    },
    {
     "cell_type": "code",
     "collapsed": false,
     "input": [
      "plt.hist(B_ones[0], bins=100)\n",
      "np.std(B_ones[0])"
     ],
     "language": "python",
     "metadata": {},
     "outputs": [
      {
       "metadata": {},
       "output_type": "pyout",
       "prompt_number": 17,
       "text": [
        "1.4864452629080054"
       ]
      },
      {
       "metadata": {},
       "output_type": "display_data",
       "png": "[encoded data removed]",
       "text": [
        "<matplotlib.figure.Figure at 0x108553750>"
       ]
      }
     ],
     "prompt_number": 17
    },
    {
     "cell_type": "markdown",
     "metadata": {},
     "source": [
      "The standard deviation of the estimates is what we observe.  Does this match what we would predict from the t-statistic formula above?"
     ]
    },
    {
     "cell_type": "code",
     "collapsed": false,
     "input": [
      "C_one = np.array([1, 0])[:, None]  # column vector\n",
      "np.sqrt(C_one.T.dot(npl.pinv(X_one.T.dot(X_one)).dot(C_one)))"
     ],
     "language": "python",
     "metadata": {},
     "outputs": [
      {
       "metadata": {},
       "output_type": "pyout",
       "prompt_number": 18,
       "text": [
        "array([[ 1.485]])"
       ]
      }
     ],
     "prompt_number": 18
    },
    {
     "cell_type": "markdown",
     "metadata": {},
     "source": [
      "Notice that the mean of the estimates, is somewhere above one, even though we only added 1 times the first HRF as the signal:"
     ]
    },
    {
     "cell_type": "code",
     "collapsed": false,
     "input": [
      "np.mean(B_ones[0])"
     ],
     "language": "python",
     "metadata": {},
     "outputs": [
      {
       "metadata": {},
       "output_type": "pyout",
       "prompt_number": 19,
       "text": [
        "1.7040634514083917"
       ]
      }
     ],
     "prompt_number": 19
    },
    {
     "cell_type": "markdown",
     "metadata": {},
     "source": [
      "This is because the single first regresssor has to fit *both* the first HRF in the signal, and as much as possible of the second HRF in the signal, because there is nothing else in the model to fit the second HRF shape."
     ]
    },
    {
     "cell_type": "markdown",
     "metadata": {},
     "source": [
      "What estimates do we get for the first regressor, when we have both regressors in the model?"
     ]
    },
    {
     "cell_type": "code",
     "collapsed": false,
     "input": [
      "plt.hist(B_boths[0], bins=100)\n",
      "np.mean(B_boths[0]), np.std(B_boths[0])"
     ],
     "language": "python",
     "metadata": {},
     "outputs": [
      {
       "metadata": {},
       "output_type": "pyout",
       "prompt_number": 20,
       "text": [
        "(1.0043904524816882, 2.0823030608230733)"
       ]
      },
      {
       "metadata": {},
       "output_type": "display_data",
       "png": "[encoded data removed]",
       "text": [
        "<matplotlib.figure.Figure at 0x10a455e90>"
       ]
      }
     ],
     "prompt_number": 20
    },
    {
     "cell_type": "markdown",
     "metadata": {},
     "source": [
      "Two things have happened now we added the second (correlated) regressor.  First, the mean of the parameter for the first regressor has dropped to 1, because the first regressor is no longer having to model the second HRF.   Second, the variability of the estimate has increased.  This is what the bottom half of the t-statistic predicts:"
     ]
    },
    {
     "cell_type": "code",
     "collapsed": false,
     "input": [
      "C_both = np.array([1, 0, 0])[:, None]  # column vector\n",
      "np.sqrt(C_both.T.dot(npl.pinv(X_both.T.dot(X_both)).dot(C_both)))"
     ],
     "language": "python",
     "metadata": {},
     "outputs": [
      {
       "metadata": {},
       "output_type": "pyout",
       "prompt_number": 21,
       "text": [
        "array([[ 2.0861]])"
       ]
      }
     ],
     "prompt_number": 21
    },
    {
     "cell_type": "markdown",
     "metadata": {},
     "source": [
      "The parameter for the second regressor has a mean (over estimates) of 1, like the parameter for the first regressor.  This is what we expect because we have 1 x the first HRF and 1 x the second HRF in the signal.  Not surprisingly, the second regressor estimate has a similar variability to that for the first parameter estimate:"
     ]
    },
    {
     "cell_type": "code",
     "collapsed": false,
     "input": [
      "plt.hist(B_boths[1], bins=100)\n",
      "np.std(B_boths[1])"
     ],
     "language": "python",
     "metadata": {},
     "outputs": [
      {
       "metadata": {},
       "output_type": "pyout",
       "prompt_number": 22,
       "text": [
        "2.07676699028185"
       ]
      },
      {
       "metadata": {},
       "output_type": "display_data",
       "png": "[encoded data removed]",
       "text": [
        "<matplotlib.figure.Figure at 0x10ac0b690>"
       ]
      }
     ],
     "prompt_number": 22
    },
    {
     "cell_type": "code",
     "collapsed": false,
     "input": [
      "C_both_1 = np.array([0, 1, 0])[:, None]  # column vector\n",
      "np.sqrt(C_both_1.T.dot(npl.pinv(X_both.T.dot(X_both)).dot(C_both_1)))"
     ],
     "language": "python",
     "metadata": {},
     "outputs": [
      {
       "metadata": {},
       "output_type": "pyout",
       "prompt_number": 23,
       "text": [
        "array([[ 2.0865]])"
       ]
      }
     ],
     "prompt_number": 23
    },
    {
     "cell_type": "markdown",
     "metadata": {},
     "source": [
      "The estimate for the first and second parameters are anti-correlated:"
     ]
    },
    {
     "cell_type": "code",
     "collapsed": false,
     "input": [
      "# Relationship of estimated parameter of first and second regressor\n",
      "plt.plot(B_boths[0], B_boths[1], '.')\n",
      "np.corrcoef(B_boths[0], B_boths[1])"
     ],
     "language": "python",
     "metadata": {},
     "outputs": [
      {
       "metadata": {},
       "output_type": "pyout",
       "prompt_number": 24,
       "text": [
        "array([[ 1.    , -0.7003],\n",
        "       [-0.7003,  1.    ]])"
       ]
      },
      {
       "metadata": {},
       "output_type": "display_data",
       "png": "[encoded data removed]",
       "text": [
        "<matplotlib.figure.Figure at 0x108340d90>"
       ]
      }
     ],
     "prompt_number": 24
    },
    {
     "cell_type": "heading",
     "level": 3,
     "metadata": {},
     "source": [
      "Orthogonalizing the second regressor with respect to the first"
     ]
    },
    {
     "cell_type": "markdown",
     "metadata": {},
     "source": [
      "hrf2 is correlated with hrf1.  That means that we can split up hrf2 into two vectors, one being a multiple of hrf1, and the other being the unique contribution of hrf2.  The sum of the two vectors is the original hrf2 regressor.  Like this:"
     ]
    },
    {
     "cell_type": "code",
     "collapsed": false,
     "input": [
      "# Regress hrf2 against hrf1 to get best fit of hrf2 using just hrf1\n",
      "y = hrf2\n",
      "X = hrf1[:, np.newaxis]  # hrf1 as column vector\n",
      "B_hrf1_in_hrf2 = npl.pinv(X).dot(y)  # scalar multiple of hrf1 to best fit hrf2\n",
      "hrf1_in_hrf2 = X.dot(B_hrf1_in_hrf2)  # portion of hrf2 that can be explained by hrf1\n",
      "unique_hrf2 = hrf2 - hrf1_in_hrf2\n",
      "plt.plot(times, hrf1, label='hrf1')\n",
      "plt.plot(times, hrf2, label='hrf2')\n",
      "plt.plot(times, hrf1_in_hrf2, label='hrf1 in hrf2')\n",
      "plt.plot(times, unique_hrf2, label='hrf2 orth wrt hrf1')\n",
      "plt.legend()\n",
      "# hrf1 part of hrf2, plus unique part, equals original hrf2\n",
      "np.allclose(hrf2, hrf1_in_hrf2 + unique_hrf2)"
     ],
     "language": "python",
     "metadata": {},
     "outputs": [
      {
       "metadata": {},
       "output_type": "pyout",
       "prompt_number": 25,
       "text": [
        "True"
       ]
      },
      {
       "metadata": {},
       "output_type": "display_data",
       "png": "[encoded data removed]",
       "text": [
        "<matplotlib.figure.Figure at 0x10a878d10>"
       ]
      }
     ],
     "prompt_number": 25
    },
    {
     "cell_type": "markdown",
     "metadata": {},
     "source": [
      "How much of the first regressor did we find in the second regressor?"
     ]
    },
    {
     "cell_type": "code",
     "collapsed": false,
     "input": [
      "B_hrf1_in_hrf2"
     ],
     "language": "python",
     "metadata": {},
     "outputs": [
      {
       "metadata": {},
       "output_type": "pyout",
       "prompt_number": 26,
       "text": [
        "array([ 0.7022])"
       ]
      }
     ],
     "prompt_number": 26
    },
    {
     "cell_type": "markdown",
     "metadata": {},
     "source": [
      "When we have the model with both the first and the second HRF, we are effectively multiplying both parts of the second HRF by the same beta parameter, to fit the data.  That is, we are applying the same scaling to the part of hrf2 that is the same shape as hrf1 and the part of hrf2 that cannot be formed from hrf1."
     ]
    },
    {
     "cell_type": "markdown",
     "metadata": {},
     "source": [
      "Now, what happens if we replace the second HRF, by just the part of the second HRF, that cannot be explained by the first?  Our second regressor is now the second HRF *orthogonalized with respect to* the first HRF:"
     ]
    },
    {
     "cell_type": "code",
     "collapsed": false,
     "input": [
      "X_both_o = np.vstack((hrf1, unique_hrf2, np.ones_like(hrf1))).T\n",
      "plt.imshow(X_both_o, interpolation='nearest', cmap='gray')"
     ],
     "language": "python",
     "metadata": {},
     "outputs": [
      {
       "metadata": {},
       "output_type": "pyout",
       "prompt_number": 27,
       "text": [
        "<matplotlib.image.AxesImage at 0x10a4976d0>"
       ]
      },
      {
       "metadata": {},
       "output_type": "display_data",
       "png": "[encoded data removed]",
       "text": [
        "<matplotlib.figure.Figure at 0x10a8de390>"
       ]
      }
     ],
     "prompt_number": 27
    },
    {
     "cell_type": "code",
     "collapsed": false,
     "input": [
      "plt.plot(times, X_both_o[:,0], times, X_both_o[:,1]) "
     ],
     "language": "python",
     "metadata": {},
     "outputs": [
      {
       "metadata": {},
       "output_type": "pyout",
       "prompt_number": 28,
       "text": [
        "[<matplotlib.lines.Line2D at 0x10a45e6d0>,\n",
        " <matplotlib.lines.Line2D at 0x10a45e950>]"
       ]
      },
      {
       "metadata": {},
       "output_type": "display_data",
       "png": "[encoded data removed]",
       "text": [
        "<matplotlib.figure.Figure at 0x10832d290>"
       ]
      }
     ],
     "prompt_number": 28
    },
    {
     "cell_type": "markdown",
     "metadata": {},
     "source": [
      "What will happen when we fit this model?"
     ]
    },
    {
     "cell_type": "code",
     "collapsed": false,
     "input": [
      "B_boths_o = npl.pinv(X_both_o).dot(Ys)"
     ],
     "language": "python",
     "metadata": {},
     "outputs": [],
     "prompt_number": 29
    },
    {
     "cell_type": "code",
     "collapsed": false,
     "input": [
      "# Distribution of parameter for first regressor in orth model\n",
      "plt.hist(B_boths_o[0], bins=100)\n",
      "np.mean(B_boths_o[0]), np.std(B_boths_o[0])"
     ],
     "language": "python",
     "metadata": {},
     "outputs": [
      {
       "metadata": {},
       "output_type": "pyout",
       "prompt_number": 30,
       "text": [
        "(1.7040634514083917, 1.4864452629080054)"
       ]
      },
      {
       "metadata": {},
       "output_type": "display_data",
       "png": "[encoded data removed]",
       "text": [
        "<matplotlib.figure.Figure at 0x10a4684d0>"
       ]
      }
     ],
     "prompt_number": 30
    },
    {
     "cell_type": "code",
     "collapsed": false,
     "input": [
      "# Predicted variance of first parameter is the same as for the\n",
      "# model with only one regressor\n",
      "np.sqrt(C_both.T.dot(npl.pinv(X_both_o.T.dot(X_both_o)).dot(C_both)))"
     ],
     "language": "python",
     "metadata": {},
     "outputs": [
      {
       "metadata": {},
       "output_type": "pyout",
       "prompt_number": 31,
       "text": [
        "array([[ 1.485]])"
       ]
      }
     ],
     "prompt_number": 31
    },
    {
     "cell_type": "markdown",
     "metadata": {},
     "source": [
      "The parameter for the first regressor has now returned to the same value and variance as it had when HRF1 was the only regressor in the model (apart from the mean).  For the orthogonalized model, we removed the part of the second regressor that could be explained by the first.  Now, the amount of the first regressor, that we could find in the second, has been added back to the parameter for the first regressor, in order to make the fitted $\\hat{y}$ values the same as for the model with both HRFs."
     ]
    },
    {
     "cell_type": "code",
     "collapsed": false,
     "input": [
      "np.mean(B_boths[0, :]) + B_hrf1_in_hrf2"
     ],
     "language": "python",
     "metadata": {},
     "outputs": [
      {
       "metadata": {},
       "output_type": "pyout",
       "prompt_number": 32,
       "text": [
        "array([ 1.7066])"
       ]
      }
     ],
     "prompt_number": 32
    },
    {
     "cell_type": "markdown",
     "metadata": {},
     "source": [
      "The hrf1 parameter in the orthogonalized model is the same as for the model that only includes hrf1 - as if the orthogonalized hrf2 is not present.  The parameter for orthogonalized hrf2 is the same as the parameter for hrf2 in the not-orthogonalized model.  We still need the same amount of the *orthogonal part* of the second regressor to explain the signal:"
     ]
    },
    {
     "cell_type": "code",
     "collapsed": false,
     "input": [
      "# Example parameters from the single model\n",
      "B_ones[:,:5]"
     ],
     "language": "python",
     "metadata": {},
     "outputs": [
      {
       "metadata": {},
       "output_type": "pyout",
       "prompt_number": 33,
       "text": [
        "array([[ 0.8024,  3.0699,  1.0402,  2.0359,  3.8838],\n",
        "       [-0.3541,  0.1892, -0.1363, -0.0687, -0.0857]])"
       ]
      }
     ],
     "prompt_number": 33
    },
    {
     "cell_type": "code",
     "collapsed": false,
     "input": [
      "# Example parameters from the non-orth model\n",
      "B_boths[:,:5]"
     ],
     "language": "python",
     "metadata": {},
     "outputs": [
      {
       "metadata": {},
       "output_type": "pyout",
       "prompt_number": 34,
       "text": [
        "array([[-0.1818,  2.8098, -1.6015,  1.5344,  2.0633],\n",
        "       [ 1.4015,  0.3705,  3.762 ,  0.7141,  2.5927],\n",
        "       [-0.3541,  0.1892, -0.1363, -0.0687, -0.0857]])"
       ]
      }
     ],
     "prompt_number": 34
    },
    {
     "cell_type": "code",
     "collapsed": false,
     "input": [
      "# Example parameters from the orth model\n",
      "B_boths_o[:,:5]"
     ],
     "language": "python",
     "metadata": {},
     "outputs": [
      {
       "metadata": {},
       "output_type": "pyout",
       "prompt_number": 35,
       "text": [
        "array([[ 0.8024,  3.0699,  1.0402,  2.0359,  3.8838],\n",
        "       [ 1.4015,  0.3705,  3.762 ,  0.7141,  2.5927],\n",
        "       [-0.3541,  0.1892, -0.1363, -0.0687, -0.0857]])"
       ]
      }
     ],
     "prompt_number": 35
    },
    {
     "cell_type": "code",
     "collapsed": false,
     "input": [
      "# The parameter for the hrf1 regressor in the orth model\n",
      "# is the same as the parameter for the hrf1 regressor in the\n",
      "# single regressor model\n",
      "plt.plot(B_ones[0], B_boths_o[0], '.')\n",
      "np.allclose(B_ones[0], B_boths_o[0])"
     ],
     "language": "python",
     "metadata": {},
     "outputs": [
      {
       "metadata": {},
       "output_type": "pyout",
       "prompt_number": 36,
       "text": [
        "True"
       ]
      },
      {
       "metadata": {},
       "output_type": "display_data",
       "png": "[encoded data removed]",
       "text": [
        "<matplotlib.figure.Figure at 0x10b5a0a10>"
       ]
      }
     ],
     "prompt_number": 36
    },
    {
     "cell_type": "code",
     "collapsed": false,
     "input": [
      "# The parameter for the orthogonalized hrf2 regressor is the same as the\n",
      "# parameter for the non-orthogonalize hrf2 regressor in the \n",
      "# non-orthogonalized model\n",
      "plt.plot(B_boths[1], B_boths_o[1], '.')\n",
      "np.allclose(B_boths[1], B_boths_o[1])"
     ],
     "language": "python",
     "metadata": {},
     "outputs": [
      {
       "metadata": {},
       "output_type": "pyout",
       "prompt_number": 37,
       "text": [
        "True"
       ]
      },
      {
       "metadata": {},
       "output_type": "display_data",
       "png": "[encoded data removed]",
       "text": [
        "<matplotlib.figure.Figure at 0x10af42210>"
       ]
      }
     ],
     "prompt_number": 37
    },
    {
     "cell_type": "code",
     "collapsed": false,
     "input": [
      "# The parameter for the hrf1 regressor in the non-orth model\n",
      "# is correlated with the parameter for the hrf1 regressor\n",
      "# in the orth model.\n",
      "plt.plot(B_boths[0], B_boths_o[0], '.')\n",
      "np.corrcoef(B_boths[0], B_boths_o[0])"
     ],
     "language": "python",
     "metadata": {},
     "outputs": [
      {
       "metadata": {},
       "output_type": "pyout",
       "prompt_number": 38,
       "text": [
        "array([[ 1.    ,  0.7138],\n",
        "       [ 0.7138,  1.    ]])"
       ]
      },
      {
       "metadata": {},
       "output_type": "display_data",
       "png": "[encoded data removed]",
       "text": [
        "<matplotlib.figure.Figure at 0x10a2b8b90>"
       ]
      }
     ],
     "prompt_number": 38
    },
    {
     "cell_type": "code",
     "collapsed": false,
     "input": [
      "# Relationship of estimated parameter of first and second regressor\n",
      "# (they should be independent)\n",
      "plt.plot(B_boths_o[0], B_boths_o[1], '+')\n",
      "np.corrcoef(B_boths_o[0], B_boths_o[1])"
     ],
     "language": "python",
     "metadata": {},
     "outputs": [
      {
       "metadata": {},
       "output_type": "pyout",
       "prompt_number": 39,
       "text": [
        "array([[ 1.    ,  0.0001],\n",
        "       [ 0.0001,  1.    ]])"
       ]
      },
      {
       "metadata": {},
       "output_type": "display_data",
       "png": "[encoded data removed]",
       "text": [
        "<matplotlib.figure.Figure at 0x10ac1d0d0>"
       ]
      }
     ],
     "prompt_number": 39
    },
    {
     "cell_type": "heading",
     "level": 3,
     "metadata": {},
     "source": [
      "Variance inflation factor"
     ]
    },
    {
     "cell_type": "markdown",
     "metadata": {},
     "source": [
      "The coefficient of determination, $R^2$, is computed with: \n",
      "$$\n",
      "R^2 = \\frac{SSReg}{SST - C}\n",
      "$$\n",
      "\n",
      "With $C = n \\bar{Y}^2$, and $\\bar{Y}$ the mean of the $Y$s."
     ]
    },
    {
     "cell_type": "code",
     "collapsed": false,
     "input": [
      "n, p = X_both.shape[0], X_both.shape[1]"
     ],
     "language": "python",
     "metadata": {},
     "outputs": [],
     "prompt_number": 40
    },
    {
     "cell_type": "code",
     "collapsed": false,
     "input": [
      "# R2 And variance inflation factor\n",
      "\n",
      "# function to compute the R2 from Y and X\n",
      "from scipy import linalg as slg\n",
      "\n",
      "def projR(to_proj, X_):\n",
      "    \"\"\" \n",
      "    projects the 2d array `to_proj` onto the residual space of `_X`\n",
      "    \n",
      "    The svd of _X is computed to have a orthonormal basis of the\n",
      "    space of the columns of _X\n",
      "    \"\"\"\n",
      "    u_, _, _ = slg.svd(X_, full_matrices=False)\n",
      "    return (to_proj - u_.dot(u_.T.dot(to_proj)))\n",
      "\n",
      "# try this function with the mean:\n",
      "ones_n1 = np.ones((n,1))\n",
      "y = np.random.normal(3,1,size=(n,1))\n",
      "print(\"this should be close to 3: \", y.mean())\n",
      "print(\"this should be close to 0: \", projR(y, ones_n1).mean())\n",
      "\n",
      "\n",
      "def R2(Y, X):\n",
      "    \"\"\"\n",
      "    Compute the coefficient of determination R2 \n",
      "    Y: numpy array shape (n,1) : the data\n",
      "    X: numpy array shape (n,p) : the design matrix\n",
      "    \"\"\"\n",
      "    (n,p) = X.shape\n",
      "    SST = (Y**2).sum()               # total sum of square\n",
      "    C = (Y.sum())**2 / n             # sum of square of the mean\n",
      "    ones_n1 = np.ones((n,1))\n",
      "    Xdemeaned = projR(X, ones_n1)\n",
      "    # compute the svd to get an orthonormal basis \n",
      "    u_, _, _ = slg.svd(Xdemeaned, full_matrices=False)\n",
      "    \n",
      "    # compute SSReg noticing that Y^t u u^t Y = \\sum (u^t Y)^2\n",
      "    SSReg = ((u_.T.dot(Y))**2).sum()\n",
      "    return SSReg / (SST - C)\n",
      "\n",
      "def SSR(Y, X):\n",
      "    \"compute the sum of square of the regression on X\"\n",
      "    (n_, p_) = X.shape\n",
      "    if n_ < p_:\n",
      "        raise ValueError(\"n must be >= to p\")\n",
      "    u_, _, _ = slg.svd(X, full_matrices=False)\n",
      "    return (((u_.T * Y.T).sum(axis=1))**2).sum()\n",
      "\n",
      "def Proj(X):\n",
      "    \"\"\" This function returns the projector on the \n",
      "        space of the columns of `X`\n",
      "    \"\"\"\n",
      "    (n_, p_) = X.shape\n",
      "    if n_ < p_:\n",
      "        raise ValueError(\"n must be >= to p\")\n",
      "    u_, _, _ = slg.svd(X, full_matrices=False)\n",
      "    return u_.dot(u_.T)\n"
     ],
     "language": "python",
     "metadata": {},
     "outputs": [
      {
       "output_type": "stream",
       "stream": "stdout",
       "text": [
        "this should be close to 3:  3.08781790064\n",
        "this should be close to 0:  -6.80936788437e-16\n"
       ]
      }
     ],
     "prompt_number": 41
    },
    {
     "cell_type": "code",
     "collapsed": false,
     "input": [
      "print(R2(X_both[:,[0]], X_both[:,1:]))"
     ],
     "language": "python",
     "metadata": {},
     "outputs": [
      {
       "output_type": "stream",
       "stream": "stdout",
       "text": [
        "0.493287984608\n"
       ]
      }
     ],
     "prompt_number": 42
    },
    {
     "cell_type": "code",
     "collapsed": false,
     "input": [
      "VIF = 1./(1. - .55)\n",
      "print(VIF)"
     ],
     "language": "python",
     "metadata": {},
     "outputs": [
      {
       "output_type": "stream",
       "stream": "stdout",
       "text": [
        "2.22222222222\n"
       ]
      }
     ],
     "prompt_number": 43
    },
    {
     "cell_type": "code",
     "collapsed": false,
     "input": [
      "print(R2(X_both_o[:,[0]], X_both_o[:,1:]))"
     ],
     "language": "python",
     "metadata": {},
     "outputs": [
      {
       "output_type": "stream",
       "stream": "stdout",
       "text": [
        "0.000150782815012\n"
       ]
      }
     ],
     "prompt_number": 44
    }
   ],
   "metadata": {}
  }
 ]
}